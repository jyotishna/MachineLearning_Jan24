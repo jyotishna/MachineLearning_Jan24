{
  "nbformat": 4,
  "nbformat_minor": 0,
  "metadata": {
    "colab": {
      "provenance": [],
      "include_colab_link": true
    },
    "kernelspec": {
      "name": "python3",
      "display_name": "Python 3"
    },
    "language_info": {
      "name": "python"
    },
    "accelerator": "GPU",
    "gpuClass": "standard"
  },
  "cells": [
    {
      "cell_type": "markdown",
      "metadata": {
        "id": "view-in-github",
        "colab_type": "text"
      },
      "source": [
        "<a href=\"https://colab.research.google.com/github/jyotishna/MachineLearning_Jan24/blob/main/10_NN_lecture_Autoencoders_(4).ipynb\" target=\"_parent\"><img src=\"https://colab.research.google.com/assets/colab-badge.svg\" alt=\"Open In Colab\"/></a>"
      ]
    },
    {
      "cell_type": "markdown",
      "source": [
        "## Content\n",
        "\n",
        "- **Autoencoders Intuition**\n",
        "\n",
        "- **Applications of AE**\n",
        "\n",
        "- **Feature Extraction and Transfer Learning**\n",
        "\n",
        "- **Denoising AE**\n",
        "\n",
        "- **Recommender Sys using AE**\n",
        "\n",
        "- Assessments\n",
        " - [Training AutoEncoders](https://www.scaler.com/hire/test/problem/42542/)\n",
        " - [AutoEncoders](https://www.scaler.com/hire/test/problem/42540/)\n",
        " - [Denoising AutoEncoders](https://www.scaler.com/hire/test/problem/42541/)"
      ],
      "metadata": {
        "id": "oCrZm_bFIPHw"
      }
    },
    {
      "cell_type": "markdown",
      "source": [
        "## Intuition"
      ],
      "metadata": {
        "id": "8Ltbl7am2wZQ"
      }
    },
    {
      "cell_type": "markdown",
      "source": [
        "Consider the following network"
      ],
      "metadata": {
        "id": "hdXemzgisSrf"
      }
    },
    {
      "cell_type": "markdown",
      "source": [
        "<center><img src='https://drive.google.com/uc?id=14rwawgLT6K4BNqoZG5wDNW5YpinZKzon' width=\"800\"></center>\n"
      ],
      "metadata": {
        "id": "NhN3vHsgsHuI"
      }
    },
    {
      "cell_type": "markdown",
      "source": [
        "Notice that\n",
        "- all the layers have same number of nuerons including the input and output layer\n",
        "- the input to the network is $x_i$ and output is $x̂_i$"
      ],
      "metadata": {
        "id": "hTvLLnp0tvT-"
      }
    },
    {
      "cell_type": "markdown",
      "source": [
        "#### Question: We want to feed in $x_i$ to network and get output $x̂_i$ such that $x_i$ ≃ $x̂_i$. Is it possible ?"
      ],
      "metadata": {
        "id": "ngIxXHiJtuZS"
      }
    },
    {
      "cell_type": "markdown",
      "source": [
        "Yes. Just make all the activation as linear\n",
        "- i.e. whatever gets in gets out\n",
        "- and train the n/w to find weights and biases"
      ],
      "metadata": {
        "id": "qSjW-iMZsSQi"
      }
    },
    {
      "cell_type": "markdown",
      "source": [
        "Now, let's introduce a little complexity to our network"
      ],
      "metadata": {
        "id": "V3P9SKl3u7eG"
      }
    },
    {
      "cell_type": "markdown",
      "source": [
        "<center><img src='https://drive.google.com/uc?id=1W1osKP2VC5y6PR3HeoZXX38Inrtrrq4C' width=\"800\"></center>\n"
      ],
      "metadata": {
        "id": "qUFs8l0lvKCl"
      }
    },
    {
      "cell_type": "markdown",
      "source": [
        "#### Question: For this network, can we make $x_i$ = $x̂_i$ ?"
      ],
      "metadata": {
        "id": "J3TJFIguwCX8"
      }
    },
    {
      "cell_type": "markdown",
      "source": [
        "The task is possible. We can make a prediction s.t. $x_i$ ∼ $x̂_i$\n",
        "- but it can't be perfectly same\n",
        "\n",
        "We can decide some loss based on the problem\n",
        "- if the values are binary, we can use binary cross entropy\n",
        "- for multiclass, we can use categorical cross entropy\n",
        "- for continuous values, we can use MSE or RMSE.\n",
        "\n",
        "\n"
      ],
      "metadata": {
        "id": "xeHMsZClwBgf"
      }
    },
    {
      "cell_type": "markdown",
      "source": [
        "<center><img src='https://drive.google.com/uc?id=1d7YnE8uiWYFR-rwWDC3j8E4J7vnOPNVr' width=\"800\"></center>\n",
        "\n"
      ],
      "metadata": {
        "id": "lnYJoWiYxpF_"
      }
    },
    {
      "cell_type": "markdown",
      "source": [
        "#### What exactly happened in this network ?"
      ],
      "metadata": {
        "id": "iv0gZI_Txxx3"
      }
    },
    {
      "cell_type": "markdown",
      "source": [
        "Out input was 6 dimension\n",
        "- it went to 4 dimension\n",
        "- and then 2 -> 4 -> 6 ."
      ],
      "metadata": {
        "id": "AeSi3_MVw0yt"
      }
    },
    {
      "cell_type": "markdown",
      "source": [
        "Let's focus on the layer in the middle i.e. layer with 2 neuron\n",
        "\n",
        "If we were to ignore the network before it,\n",
        "- we can say that the this middle layer (2 neuron layer) is the input for next layers\n",
        "\n",
        "\n",
        "In other words,\n",
        "- 2D input gave us 6D output\n"
      ],
      "metadata": {
        "id": "pufXRmsGx64a"
      }
    },
    {
      "cell_type": "markdown",
      "source": [
        "<center><img src='https://drive.google.com/uc?id=1TUxyggf2bNMKGR12Dftz9f-QVzLB_-UM' width=\"800\"></center>\n"
      ],
      "metadata": {
        "id": "e82alvq_yHSP"
      }
    },
    {
      "cell_type": "markdown",
      "source": [
        "If we are able to produce 6D output ($x̂_i$) which similar to $x_i$, it means\n",
        "- all the information available to produce this was available.\n",
        "\n"
      ],
      "metadata": {
        "id": "ihO5j5BYy2ne"
      }
    },
    {
      "cell_type": "markdown",
      "source": [
        "<center><img src='https://drive.google.com/uc?id=1-JsrXkjjLtWx3igRlavf74-BpSGDF8RV' width=\"700\"></center>\n",
        "\n"
      ],
      "metadata": {
        "id": "sCjlLGHg2Pbl"
      }
    },
    {
      "cell_type": "markdown",
      "source": [
        "Now, imagine instead of 6-D input vector\n",
        "- We have a sparse vector of 300-dim.\n",
        "\n",
        "And using the network,\n",
        "- we step it down to 32 dim till middle layer\n",
        "\n"
      ],
      "metadata": {
        "id": "CteF2u0B2cE7"
      }
    },
    {
      "cell_type": "markdown",
      "source": [
        "#### Doesn't it look like we are compressing our data ?"
      ],
      "metadata": {
        "id": "wkGesfBz2qZa"
      }
    },
    {
      "cell_type": "markdown",
      "source": [
        "We are basically reducing the dimensions of our input."
      ],
      "metadata": {
        "id": "tcj1Z8VH2uR8"
      }
    },
    {
      "cell_type": "markdown",
      "source": [
        "<center><img src='https://drive.google.com/uc?id=1b3j3o6wE4eaFLXON7i6QuXU0sK1fjSg7' width=\"700\"></center>"
      ],
      "metadata": {
        "id": "JjrYLqPG2P6b"
      }
    },
    {
      "cell_type": "markdown",
      "source": [
        "So, in summary,\n",
        "- the left part of network is trying to compress the information i.e. **encoder**\n",
        "- the right part of netowork is decompressing it i.e. **decoder**\n",
        "\n",
        "And this had to happen so meaningfully s.t.\n",
        "- all the info would be stored at middle layer.\n",
        "\n",
        "\n",
        "This means we can use middle layer (bottleneck layer) as an **embedding/encoding or latent features**\n",
        "- i.e. we can use this bottleneck as features.\n",
        "\n",
        "And this network is known as **Autoencoder**"
      ],
      "metadata": {
        "id": "udXCCJWx3oR5"
      }
    },
    {
      "cell_type": "markdown",
      "source": [
        "The purpose of the network is to get the embedding"
      ],
      "metadata": {
        "id": "X8geqaug4FpG"
      }
    },
    {
      "cell_type": "markdown",
      "source": [
        "## Applications"
      ],
      "metadata": {
        "id": "O2KBN6x746nr"
      }
    },
    {
      "cell_type": "markdown",
      "source": [
        "<center><img src='https://drive.google.com/uc?id=1Ufe6jP8P_wCKM1lF1CF5fL9wO-wsNkjQ' width=\"700\"></center>"
      ],
      "metadata": {
        "id": "W1UQV0RP7Igb"
      }
    },
    {
      "cell_type": "markdown",
      "source": [
        "**1. Dimensionality Reduction/ Compression**"
      ],
      "metadata": {
        "id": "tT4ztPC65OUd"
      }
    },
    {
      "cell_type": "markdown",
      "source": [
        "Here, compression doesn't mean reducing the space\n",
        "- but to reduce the number of features of input vectors"
      ],
      "metadata": {
        "id": "g0IEBKoz5Sh_"
      }
    },
    {
      "cell_type": "markdown",
      "source": [
        "Reducing the dimensions means\n",
        "- faster inference time\n",
        "- low latency\n",
        "\n",
        "\n",
        "We can also use these embeddings for visualization"
      ],
      "metadata": {
        "id": "nfJHQN_E5eNx"
      }
    },
    {
      "cell_type": "markdown",
      "source": [
        "**2. Denoising**"
      ],
      "metadata": {
        "id": "uLqTElxd58do"
      }
    },
    {
      "cell_type": "markdown",
      "source": [
        "We can use AE (Autoencoders) to denoise the data"
      ],
      "metadata": {
        "id": "Cn5_I2N96E9F"
      }
    },
    {
      "cell_type": "markdown",
      "source": [
        "**3. Embeddings**\n",
        "\n",
        "We can use AE to generate embeddings\n",
        "- These embeddings can be used for\n",
        "    - recommender system\n",
        "    - clustering\n",
        "    - image search"
      ],
      "metadata": {
        "id": "RrZlnHHt6zhS"
      }
    },
    {
      "cell_type": "markdown",
      "source": [
        "### Dimensionality reduction"
      ],
      "metadata": {
        "id": "JWerftED7AKq"
      }
    },
    {
      "cell_type": "markdown",
      "source": [
        "#### Question: Can we create a PCA equivalent network ?"
      ],
      "metadata": {
        "id": "wXYs3Jfr7oWF"
      }
    },
    {
      "cell_type": "markdown",
      "source": [
        "Say, we have\n",
        "- d dim input data\n",
        "\n",
        "And we want to go to d' dim. (d' < d)\n",
        "\n",
        "\n",
        "So, the network would like :"
      ],
      "metadata": {
        "id": "YZQwv8kI7sJE"
      }
    },
    {
      "cell_type": "markdown",
      "source": [
        "<center><img src='https://drive.google.com/uc?id=1ueq8VloMAsG-qmeyeIkZ0ZQiY15Io2ZC' width=\"700\"></center>\n"
      ],
      "metadata": {
        "id": "xGmFz6M__GR9"
      }
    },
    {
      "cell_type": "markdown",
      "source": [
        "Do note that\n",
        "- we don't really need the prediction\n",
        "\n",
        "We need the encoding coz\n",
        "- the fact the we can go back from encoding means that\n",
        "- encoding must have all that information to recreate the original vector."
      ],
      "metadata": {
        "id": "0t1kY0ZD_GwU"
      }
    },
    {
      "cell_type": "markdown",
      "source": [
        "#### Question: Is it required for encoder and decoder to be symmetric ?"
      ],
      "metadata": {
        "id": "b9rHLs_U_v8o"
      }
    },
    {
      "cell_type": "markdown",
      "source": [
        "<center><img src='https://drive.google.com/uc?id=1lmV8IkoX9ZfR88rJODnS9jru9KfoETLm' width=\"700\"></center>\n",
        "\n"
      ],
      "metadata": {
        "id": "fTY-Lp3JAeYv"
      }
    },
    {
      "cell_type": "markdown",
      "source": [
        "It doesn't really have to be symmetric\n",
        "- Earlier, we used to keep the it symmertric\n",
        "    - i.e. same number of layer and same number of neuron\n",
        "- Also, weight were shared (tying weights) between encoder and decoder.\n",
        "    - so as to reduce the number of parameters\n",
        "\n",
        "There is no more necessary for that and we can have separate weights for enoder and decoder\n",
        "\n"
      ],
      "metadata": {
        "id": "bcCMgIcyAlEI"
      }
    },
    {
      "cell_type": "markdown",
      "source": [
        "#### Code walkthrough - Dimensionality-Reduction (using AE)"
      ],
      "metadata": {
        "id": "I7iJGmH9D3-3"
      }
    },
    {
      "cell_type": "code",
      "source": [
        "\n",
        "#Source and Reference: https://blog.keras.io/building-autoencoders-in-keras.html\n",
        "\n",
        "\n",
        "import keras\n",
        "from keras import layers\n",
        "from keras.datasets import mnist\n",
        "import numpy as np\n",
        "\n",
        "\n",
        "\n",
        "(x_train, y_train), (x_test, y_test) = mnist.load_data()\n",
        "\n",
        "#Normalization of input\n",
        "x_train = x_train.astype('float32') /255\n",
        "x_test = x_test.astype('float32') /255\n",
        "\n",
        "#Reshaping the images to 1D vectors\n",
        "x_train = x_train.reshape((len(x_train), np.prod(x_train.shape[1:])))\n",
        "x_test = x_test.reshape((len(x_test), np.prod(x_test.shape[1:])))\n",
        "print(x_train.shape)\n",
        "print(x_test.shape)\n"
      ],
      "metadata": {
        "id": "f7KioqwLx1hz",
        "colab": {
          "base_uri": "https://localhost:8080/"
        },
        "outputId": "c30aa652-cd4c-44de-c78f-2773e4bae471"
      },
      "execution_count": null,
      "outputs": [
        {
          "output_type": "stream",
          "name": "stdout",
          "text": [
            "Downloading data from https://storage.googleapis.com/tensorflow/tf-keras-datasets/mnist.npz\n",
            "\u001b[1m11490434/11490434\u001b[0m \u001b[32m━━━━━━━━━━━━━━━━━━━━\u001b[0m\u001b[37m\u001b[0m \u001b[1m0s\u001b[0m 0us/step\n",
            "(60000, 784)\n",
            "(10000, 784)\n"
          ]
        }
      ]
    },
    {
      "cell_type": "code",
      "source": [
        "print(y_train.shape)\n",
        "print(y_test.shape)"
      ],
      "metadata": {
        "colab": {
          "base_uri": "https://localhost:8080/"
        },
        "id": "zGdsobEDsezT",
        "outputId": "26715cac-0a38-43d9-9b84-24755b8f4c4a"
      },
      "execution_count": null,
      "outputs": [
        {
          "output_type": "stream",
          "name": "stdout",
          "text": [
            "(60000,)\n",
            "(10000,)\n"
          ]
        }
      ]
    },
    {
      "cell_type": "code",
      "source": [
        "#AutoEncoder model - Functional\n",
        "input_img = keras.Input(shape=(784,))\n",
        "encoded = layers.Dense(128, activation='relu')(input_img)\n",
        "encoded = layers.Dense(64, activation='relu')(encoded)\n",
        "\n",
        "encoded = layers.Dense(32, activation='relu')(encoded)\n",
        "\n",
        "decoded = layers.Dense(64, activation='relu')(encoded)\n",
        "decoded = layers.Dense(128, activation='relu')(decoded)\n",
        "decoded = layers.Dense(784, activation='sigmoid')(decoded)\n",
        "\n"
      ],
      "metadata": {
        "id": "2e_zs5gkvyrV"
      },
      "execution_count": null,
      "outputs": []
    },
    {
      "cell_type": "code",
      "source": [
        "autoencoder = keras.Model(input_img, decoded)\n",
        "autoencoder.compile(optimizer='adam', loss='mse')\n",
        "\n",
        "autoencoder.fit(x_train, x_train,\n",
        "                epochs=10,\n",
        "                batch_size=256,\n",
        "                shuffle=True,\n",
        "                validation_data=(x_test, x_test))"
      ],
      "metadata": {
        "id": "GweNAmwbv6jE",
        "colab": {
          "base_uri": "https://localhost:8080/"
        },
        "outputId": "f116ab9f-9945-4ab6-96d9-6f0b1af4ba2b"
      },
      "execution_count": null,
      "outputs": [
        {
          "output_type": "stream",
          "name": "stdout",
          "text": [
            "Epoch 1/10\n",
            "235/235 [==============================] - 9s 6ms/step - loss: 0.2442 - val_loss: 0.1665\n",
            "Epoch 2/10\n",
            "235/235 [==============================] - 1s 5ms/step - loss: 0.1480 - val_loss: 0.1333\n",
            "Epoch 3/10\n",
            "235/235 [==============================] - 1s 5ms/step - loss: 0.1285 - val_loss: 0.1218\n",
            "Epoch 4/10\n",
            "235/235 [==============================] - 1s 5ms/step - loss: 0.1201 - val_loss: 0.1156\n",
            "Epoch 5/10\n",
            "235/235 [==============================] - 1s 5ms/step - loss: 0.1149 - val_loss: 0.1112\n",
            "Epoch 6/10\n",
            "235/235 [==============================] - 1s 5ms/step - loss: 0.1106 - val_loss: 0.1074\n",
            "Epoch 7/10\n",
            "235/235 [==============================] - 1s 6ms/step - loss: 0.1069 - val_loss: 0.1051\n",
            "Epoch 8/10\n",
            "235/235 [==============================] - 1s 6ms/step - loss: 0.1043 - val_loss: 0.1022\n",
            "Epoch 9/10\n",
            "235/235 [==============================] - 1s 5ms/step - loss: 0.1025 - val_loss: 0.1007\n",
            "Epoch 10/10\n",
            "235/235 [==============================] - 1s 5ms/step - loss: 0.1008 - val_loss: 0.0993\n"
          ]
        },
        {
          "output_type": "execute_result",
          "data": {
            "text/plain": [
              "<keras.src.callbacks.History at 0x7acc4072abc0>"
            ]
          },
          "metadata": {},
          "execution_count": 7
        }
      ]
    },
    {
      "cell_type": "code",
      "source": [
        "autoencoder.summary()"
      ],
      "metadata": {
        "colab": {
          "base_uri": "https://localhost:8080/"
        },
        "id": "pfTYDEUKHPZ_",
        "outputId": "a266631d-e166-4af0-8e77-41d18bf0292e"
      },
      "execution_count": null,
      "outputs": [
        {
          "output_type": "stream",
          "name": "stdout",
          "text": [
            "Model: \"model\"\n",
            "_________________________________________________________________\n",
            " Layer (type)                Output Shape              Param #   \n",
            "=================================================================\n",
            " input_1 (InputLayer)        [(None, 784)]             0         \n",
            "                                                                 \n",
            " dense (Dense)               (None, 128)               100480    \n",
            "                                                                 \n",
            " dense_1 (Dense)             (None, 64)                8256      \n",
            "                                                                 \n",
            " dense_2 (Dense)             (None, 32)                2080      \n",
            "                                                                 \n",
            " dense_3 (Dense)             (None, 64)                2112      \n",
            "                                                                 \n",
            " dense_4 (Dense)             (None, 128)               8320      \n",
            "                                                                 \n",
            " dense_5 (Dense)             (None, 784)               101136    \n",
            "                                                                 \n",
            "=================================================================\n",
            "Total params: 222384 (868.69 KB)\n",
            "Trainable params: 222384 (868.69 KB)\n",
            "Non-trainable params: 0 (0.00 Byte)\n",
            "_________________________________________________________________\n"
          ]
        }
      ]
    },
    {
      "cell_type": "code",
      "source": [
        "from keras.utils.vis_utils import plot_model\n",
        "\n",
        "plot_model(autoencoder, to_file='model_plot.png', show_shapes=True, show_layer_names=True)"
      ],
      "metadata": {
        "colab": {
          "base_uri": "https://localhost:8080/",
          "height": 349
        },
        "id": "p_4aYQRxjsg2",
        "outputId": "c395f525-bec3-4450-da13-71ac9350ba3a"
      },
      "execution_count": null,
      "outputs": [
        {
          "output_type": "error",
          "ename": "ModuleNotFoundError",
          "evalue": "ignored",
          "traceback": [
            "\u001b[0;31m---------------------------------------------------------------------------\u001b[0m",
            "\u001b[0;31mModuleNotFoundError\u001b[0m                       Traceback (most recent call last)",
            "\u001b[0;32m<ipython-input-9-ae55bf3ab19c>\u001b[0m in \u001b[0;36m<cell line: 1>\u001b[0;34m()\u001b[0m\n\u001b[0;32m----> 1\u001b[0;31m \u001b[0;32mfrom\u001b[0m \u001b[0mkeras\u001b[0m\u001b[0;34m.\u001b[0m\u001b[0mutils\u001b[0m\u001b[0;34m.\u001b[0m\u001b[0mvis_utils\u001b[0m \u001b[0;32mimport\u001b[0m \u001b[0mplot_model\u001b[0m\u001b[0;34m\u001b[0m\u001b[0;34m\u001b[0m\u001b[0m\n\u001b[0m\u001b[1;32m      2\u001b[0m \u001b[0;34m\u001b[0m\u001b[0m\n\u001b[1;32m      3\u001b[0m \u001b[0mplot_model\u001b[0m\u001b[0;34m(\u001b[0m\u001b[0mautoencoder\u001b[0m\u001b[0;34m,\u001b[0m \u001b[0mto_file\u001b[0m\u001b[0;34m=\u001b[0m\u001b[0;34m'model_plot.png'\u001b[0m\u001b[0;34m,\u001b[0m \u001b[0mshow_shapes\u001b[0m\u001b[0;34m=\u001b[0m\u001b[0;32mTrue\u001b[0m\u001b[0;34m,\u001b[0m \u001b[0mshow_layer_names\u001b[0m\u001b[0;34m=\u001b[0m\u001b[0;32mTrue\u001b[0m\u001b[0;34m)\u001b[0m\u001b[0;34m\u001b[0m\u001b[0;34m\u001b[0m\u001b[0m\n",
            "\u001b[0;31mModuleNotFoundError\u001b[0m: No module named 'keras.utils.vis_utils'",
            "",
            "\u001b[0;31m---------------------------------------------------------------------------\u001b[0;32m\nNOTE: If your import is failing due to a missing package, you can\nmanually install dependencies using either !pip or !apt.\n\nTo view examples of installing some common dependencies, click the\n\"Open Examples\" button below.\n\u001b[0;31m---------------------------------------------------------------------------\u001b[0m\n"
          ],
          "errorDetails": {
            "actions": [
              {
                "action": "open_url",
                "actionText": "Open Examples",
                "url": "/notebooks/snippets/importing_libraries.ipynb"
              }
            ]
          }
        }
      ]
    },
    {
      "cell_type": "code",
      "source": [
        "#Visualize the outputs\n",
        "import matplotlib.pyplot as plt\n",
        "\n",
        "decoded_imgs = autoencoder.predict(x_test)\n",
        "\n",
        "n = 10\n",
        "plt.figure(figsize=(20, 4))\n",
        "for i in range(1, n + 1):\n",
        "    # Display original\n",
        "    ax = plt.subplot(2, n, i)\n",
        "    plt.imshow(x_test[i].reshape(28, 28))\n",
        "    plt.gray()\n",
        "    ax.get_xaxis().set_visible(False)\n",
        "    ax.get_yaxis().set_visible(False)\n",
        "\n",
        "    # Display reconstruction\n",
        "    ax = plt.subplot(2, n, i + n)\n",
        "    plt.imshow(decoded_imgs[i].reshape(28, 28))\n",
        "    plt.gray()\n",
        "    ax.get_xaxis().set_visible(False)\n",
        "    ax.get_yaxis().set_visible(False)\n",
        "plt.show()"
      ],
      "metadata": {
        "colab": {
          "base_uri": "https://localhost:8080/",
          "height": 287
        },
        "id": "lyTRFIQTw5yI",
        "outputId": "3137bf37-841d-4886-d990-adf413e6b0f4"
      },
      "execution_count": null,
      "outputs": [
        {
          "output_type": "stream",
          "name": "stdout",
          "text": [
            "313/313 [==============================] - 1s 2ms/step\n"
          ]
        },
        {
          "output_type": "display_data",
          "data": {
            "text/plain": [
              "<Figure size 2000x400 with 20 Axes>"
            ],
            "image/png": "[encoded data removed]"
          },
          "metadata": {}
        }
      ]
    },
    {
      "cell_type": "markdown",
      "source": [
        "### AutoEncoder model for 2D encoding\n"
      ],
      "metadata": {
        "id": "vy4HAOpdnXe0"
      }
    },
    {
      "cell_type": "code",
      "source": [
        "#AutoEncoder model for 2D encoding\n",
        "input_img = keras.Input(shape=(784,))\n",
        "encoded = layers.Dense(128, activation='relu')(input_img)\n",
        "encoded = layers.Dense(64, activation='relu')(encoded)\n",
        "encoded = layers.Dense(32, activation='relu')(encoded)\n",
        "encoded = layers.Dense(16, activation='relu')(encoded)\n",
        "encoded = layers.Dense(8, activation='relu')(encoded)\n",
        "encoded = layers.Dense(4, activation='relu')(encoded)\n",
        "encoded = layers.Dense(2, activation='relu')(encoded)\n",
        "\n",
        "decoded = layers.Dense(4, activation='relu')(encoded)\n",
        "decoded = layers.Dense(8, activation='relu')(decoded)\n",
        "decoded = layers.Dense(16, activation='relu')(decoded)\n",
        "decoded = layers.Dense(32, activation='relu')(decoded)\n",
        "decoded = layers.Dense(64, activation='relu')(decoded)\n",
        "decoded = layers.Dense(128, activation='relu')(decoded)\n",
        "decoded = layers.Dense(784, activation='sigmoid')(decoded)\n",
        "\n"
      ],
      "metadata": {
        "id": "ospQiMyhnBgB"
      },
      "execution_count": null,
      "outputs": []
    },
    {
      "cell_type": "code",
      "source": [
        "model = keras.Model(input_img, decoded)\n",
        "model.compile(optimizer='adam', loss='mse')\n"
      ],
      "metadata": {
        "id": "ZyJD_-yjncpt"
      },
      "execution_count": null,
      "outputs": []
    },
    {
      "cell_type": "code",
      "source": [
        "model.summary()"
      ],
      "metadata": {
        "colab": {
          "base_uri": "https://localhost:8080/"
        },
        "id": "GRSoO3GXnx4F",
        "outputId": "db143e5a-4b88-4900-dd46-438df041940a",
        "collapsed": true
      },
      "execution_count": null,
      "outputs": [
        {
          "output_type": "stream",
          "name": "stdout",
          "text": [
            "Model: \"model_1\"\n",
            "_________________________________________________________________\n",
            " Layer (type)                Output Shape              Param #   \n",
            "=================================================================\n",
            " input_2 (InputLayer)        [(None, 784)]             0         \n",
            "                                                                 \n",
            " dense_6 (Dense)             (None, 128)               100480    \n",
            "                                                                 \n",
            " dense_7 (Dense)             (None, 64)                8256      \n",
            "                                                                 \n",
            " dense_8 (Dense)             (None, 32)                2080      \n",
            "                                                                 \n",
            " dense_9 (Dense)             (None, 16)                528       \n",
            "                                                                 \n",
            " dense_10 (Dense)            (None, 8)                 136       \n",
            "                                                                 \n",
            " dense_11 (Dense)            (None, 4)                 36        \n",
            "                                                                 \n",
            " dense_12 (Dense)            (None, 2)                 10        \n",
            "                                                                 \n",
            " dense_13 (Dense)            (None, 4)                 12        \n",
            "                                                                 \n",
            " dense_14 (Dense)            (None, 8)                 40        \n",
            "                                                                 \n",
            " dense_15 (Dense)            (None, 16)                144       \n",
            "                                                                 \n",
            " dense_16 (Dense)            (None, 32)                544       \n",
            "                                                                 \n",
            " dense_17 (Dense)            (None, 64)                2112      \n",
            "                                                                 \n",
            " dense_18 (Dense)            (None, 128)               8320      \n",
            "                                                                 \n",
            " dense_19 (Dense)            (None, 784)               101136    \n",
            "                                                                 \n",
            "=================================================================\n",
            "Total params: 223,834\n",
            "Trainable params: 223,834\n",
            "Non-trainable params: 0\n",
            "_________________________________________________________________\n"
          ]
        }
      ]
    },
    {
      "cell_type": "code",
      "source": [
        "plot_model(model, to_file='model.png', show_shapes=True, show_layer_names=True)"
      ],
      "metadata": {
        "colab": {
          "base_uri": "https://localhost:8080/",
          "height": 1000
        },
        "id": "WHuISLIinkPd",
        "outputId": "fa06a31f-1ee9-4432-8c1d-3ed0e89a77f3",
        "collapsed": true
      },
      "execution_count": null,
      "outputs": [
        {
          "output_type": "execute_result",
          "data": {
            "image/png": "[encoded data removed]",
            "text/plain": [
              "<IPython.core.display.Image object>"
            ]
          },
          "metadata": {},
          "execution_count": 11
        }
      ]
    },
    {
      "cell_type": "code",
      "source": [
        "model.fit(x_train, x_train,\n",
        "                epochs=100,\n",
        "                batch_size=256,\n",
        "                shuffle=True,\n",
        "                validation_data=(x_test, x_test))"
      ],
      "metadata": {
        "colab": {
          "base_uri": "https://localhost:8080/"
        },
        "id": "ht_XTixzn9zY",
        "outputId": "e6d50fae-e313-483f-967a-126ff6e56911",
        "collapsed": true
      },
      "execution_count": null,
      "outputs": [
        {
          "output_type": "stream",
          "name": "stdout",
          "text": [
            "Epoch 1/100\n",
            "235/235 [==============================] - 6s 8ms/step - loss: 0.3483 - val_loss: 0.2397\n",
            "Epoch 2/100\n",
            "235/235 [==============================] - 2s 7ms/step - loss: 0.2376 - val_loss: 0.2350\n",
            "Epoch 3/100\n",
            "235/235 [==============================] - 2s 10ms/step - loss: 0.2334 - val_loss: 0.2298\n",
            "Epoch 4/100\n",
            "235/235 [==============================] - 2s 8ms/step - loss: 0.2290 - val_loss: 0.2266\n",
            "Epoch 5/100\n",
            "235/235 [==============================] - 2s 7ms/step - loss: 0.2262 - val_loss: 0.2238\n",
            "Epoch 6/100\n",
            "235/235 [==============================] - 2s 7ms/step - loss: 0.2226 - val_loss: 0.2205\n",
            "Epoch 7/100\n",
            "235/235 [==============================] - 2s 6ms/step - loss: 0.2197 - val_loss: 0.2184\n",
            "Epoch 8/100\n",
            "235/235 [==============================] - 1s 6ms/step - loss: 0.2172 - val_loss: 0.2164\n",
            "Epoch 9/100\n",
            "235/235 [==============================] - 2s 6ms/step - loss: 0.2154 - val_loss: 0.2144\n",
            "Epoch 10/100\n",
            "235/235 [==============================] - 2s 8ms/step - loss: 0.2139 - val_loss: 0.2136\n",
            "Epoch 11/100\n",
            "235/235 [==============================] - 2s 9ms/step - loss: 0.2134 - val_loss: 0.2131\n",
            "Epoch 12/100\n",
            "235/235 [==============================] - 2s 7ms/step - loss: 0.2124 - val_loss: 0.2121\n",
            "Epoch 13/100\n",
            "235/235 [==============================] - 2s 7ms/step - loss: 0.2121 - val_loss: 0.2109\n",
            "Epoch 14/100\n",
            "235/235 [==============================] - 2s 7ms/step - loss: 0.2109 - val_loss: 0.2099\n",
            "Epoch 15/100\n",
            "235/235 [==============================] - 2s 7ms/step - loss: 0.2099 - val_loss: 0.2089\n",
            "Epoch 16/100\n",
            "235/235 [==============================] - 2s 7ms/step - loss: 0.2092 - val_loss: 0.2083\n",
            "Epoch 17/100\n",
            "235/235 [==============================] - 2s 7ms/step - loss: 0.2081 - val_loss: 0.2080\n",
            "Epoch 18/100\n",
            "235/235 [==============================] - 2s 9ms/step - loss: 0.2075 - val_loss: 0.2069\n",
            "Epoch 19/100\n",
            "235/235 [==============================] - 2s 7ms/step - loss: 0.2070 - val_loss: 0.2063\n",
            "Epoch 20/100\n",
            "235/235 [==============================] - 2s 7ms/step - loss: 0.2061 - val_loss: 0.2066\n",
            "Epoch 21/100\n",
            "235/235 [==============================] - 2s 7ms/step - loss: 0.2075 - val_loss: 0.2109\n",
            "Epoch 22/100\n",
            "235/235 [==============================] - 2s 7ms/step - loss: 0.2079 - val_loss: 0.2098\n",
            "Epoch 23/100\n",
            "235/235 [==============================] - 2s 6ms/step - loss: 0.2081 - val_loss: 0.2047\n",
            "Epoch 24/100\n",
            "235/235 [==============================] - 2s 7ms/step - loss: 0.2050 - val_loss: 0.2036\n",
            "Epoch 25/100\n",
            "235/235 [==============================] - 2s 8ms/step - loss: 0.2062 - val_loss: 0.2085\n",
            "Epoch 26/100\n",
            "235/235 [==============================] - 2s 9ms/step - loss: 0.2048 - val_loss: 0.2032\n",
            "Epoch 27/100\n",
            "235/235 [==============================] - 2s 6ms/step - loss: 0.2036 - val_loss: 0.2033\n",
            "Epoch 28/100\n",
            "235/235 [==============================] - 2s 7ms/step - loss: 0.2033 - val_loss: 0.2022\n",
            "Epoch 29/100\n",
            "235/235 [==============================] - 2s 7ms/step - loss: 0.2029 - val_loss: 0.2023\n",
            "Epoch 30/100\n",
            "235/235 [==============================] - 2s 7ms/step - loss: 0.2018 - val_loss: 0.2008\n",
            "Epoch 31/100\n",
            "235/235 [==============================] - 2s 7ms/step - loss: 0.2013 - val_loss: 0.2010\n",
            "Epoch 32/100\n",
            "235/235 [==============================] - 2s 7ms/step - loss: 0.2016 - val_loss: 0.2017\n",
            "Epoch 33/100\n",
            "235/235 [==============================] - 2s 9ms/step - loss: 0.2017 - val_loss: 0.2019\n",
            "Epoch 34/100\n",
            "235/235 [==============================] - 2s 7ms/step - loss: 0.2019 - val_loss: 0.2016\n",
            "Epoch 35/100\n",
            "235/235 [==============================] - 2s 7ms/step - loss: 0.2023 - val_loss: 0.2028\n",
            "Epoch 36/100\n",
            "235/235 [==============================] - 2s 7ms/step - loss: 0.2040 - val_loss: 0.2078\n",
            "Epoch 37/100\n",
            "235/235 [==============================] - 2s 7ms/step - loss: 0.2143 - val_loss: 0.2138\n",
            "Epoch 38/100\n",
            "235/235 [==============================] - 2s 7ms/step - loss: 0.2110 - val_loss: 0.2075\n",
            "Epoch 39/100\n",
            "235/235 [==============================] - 2s 7ms/step - loss: 0.2067 - val_loss: 0.2021\n",
            "Epoch 40/100\n",
            "235/235 [==============================] - 2s 10ms/step - loss: 0.2019 - val_loss: 0.1999\n",
            "Epoch 41/100\n",
            "235/235 [==============================] - 2s 8ms/step - loss: 0.2002 - val_loss: 0.1992\n",
            "Epoch 42/100\n",
            "235/235 [==============================] - 2s 7ms/step - loss: 0.1997 - val_loss: 0.1987\n",
            "Epoch 43/100\n",
            "235/235 [==============================] - 2s 8ms/step - loss: 0.1988 - val_loss: 0.1982\n",
            "Epoch 44/100\n",
            "235/235 [==============================] - 2s 7ms/step - loss: 0.1985 - val_loss: 0.1980\n",
            "Epoch 45/100\n",
            "235/235 [==============================] - 2s 7ms/step - loss: 0.1986 - val_loss: 0.1983\n",
            "Epoch 46/100\n",
            "235/235 [==============================] - 2s 8ms/step - loss: 0.1980 - val_loss: 0.1973\n",
            "Epoch 47/100\n",
            "235/235 [==============================] - 2s 10ms/step - loss: 0.1986 - val_loss: 0.2010\n",
            "Epoch 48/100\n",
            "235/235 [==============================] - 2s 7ms/step - loss: 0.1992 - val_loss: 0.1976\n",
            "Epoch 49/100\n",
            "235/235 [==============================] - 2s 7ms/step - loss: 0.1979 - val_loss: 0.1995\n",
            "Epoch 50/100\n",
            "235/235 [==============================] - 2s 7ms/step - loss: 0.1981 - val_loss: 0.1968\n",
            "Epoch 51/100\n",
            "235/235 [==============================] - 2s 7ms/step - loss: 0.1972 - val_loss: 0.1962\n",
            "Epoch 52/100\n",
            "235/235 [==============================] - 2s 7ms/step - loss: 0.1970 - val_loss: 0.1967\n",
            "Epoch 53/100\n",
            "235/235 [==============================] - 2s 7ms/step - loss: 0.1969 - val_loss: 0.1976\n",
            "Epoch 54/100\n",
            "235/235 [==============================] - 2s 10ms/step - loss: 0.1974 - val_loss: 0.1972\n",
            "Epoch 55/100\n",
            "235/235 [==============================] - 2s 7ms/step - loss: 0.1968 - val_loss: 0.1964\n",
            "Epoch 56/100\n",
            "235/235 [==============================] - 2s 7ms/step - loss: 0.1969 - val_loss: 0.2013\n",
            "Epoch 57/100\n",
            "235/235 [==============================] - 2s 7ms/step - loss: 0.1990 - val_loss: 0.1976\n",
            "Epoch 58/100\n",
            "235/235 [==============================] - 2s 7ms/step - loss: 0.1971 - val_loss: 0.1961\n",
            "Epoch 59/100\n",
            "235/235 [==============================] - 2s 7ms/step - loss: 0.1967 - val_loss: 0.1967\n",
            "Epoch 60/100\n",
            "235/235 [==============================] - 2s 7ms/step - loss: 0.1966 - val_loss: 0.1959\n",
            "Epoch 61/100\n",
            "235/235 [==============================] - 2s 10ms/step - loss: 0.1965 - val_loss: 0.1960\n",
            "Epoch 62/100\n",
            "235/235 [==============================] - 2s 8ms/step - loss: 0.1968 - val_loss: 0.1969\n",
            "Epoch 63/100\n",
            "235/235 [==============================] - 2s 7ms/step - loss: 0.1969 - val_loss: 0.1974\n",
            "Epoch 64/100\n",
            "235/235 [==============================] - 2s 7ms/step - loss: 0.1966 - val_loss: 0.1956\n",
            "Epoch 65/100\n",
            "235/235 [==============================] - 2s 7ms/step - loss: 0.1967 - val_loss: 0.1960\n",
            "Epoch 66/100\n",
            "235/235 [==============================] - 2s 7ms/step - loss: 0.1974 - val_loss: 0.2007\n",
            "Epoch 67/100\n",
            "235/235 [==============================] - 2s 8ms/step - loss: 0.2031 - val_loss: 0.2100\n",
            "Epoch 68/100\n",
            "235/235 [==============================] - 2s 10ms/step - loss: 0.2061 - val_loss: 0.2012\n",
            "Epoch 69/100\n",
            "235/235 [==============================] - 2s 7ms/step - loss: 0.2030 - val_loss: 0.2023\n",
            "Epoch 70/100\n",
            "235/235 [==============================] - 2s 7ms/step - loss: 0.2008 - val_loss: 0.2029\n",
            "Epoch 71/100\n",
            "235/235 [==============================] - 2s 7ms/step - loss: 0.2010 - val_loss: 0.1997\n",
            "Epoch 72/100\n",
            "235/235 [==============================] - 2s 7ms/step - loss: 0.1996 - val_loss: 0.1985\n",
            "Epoch 73/100\n",
            "235/235 [==============================] - 2s 7ms/step - loss: 0.2022 - val_loss: 0.1995\n",
            "Epoch 74/100\n",
            "235/235 [==============================] - 2s 8ms/step - loss: 0.1988 - val_loss: 0.1973\n",
            "Epoch 75/100\n",
            "235/235 [==============================] - 2s 10ms/step - loss: 0.1980 - val_loss: 0.1974\n",
            "Epoch 76/100\n",
            "235/235 [==============================] - 2s 7ms/step - loss: 0.1985 - val_loss: 0.1983\n",
            "Epoch 77/100\n",
            "235/235 [==============================] - 2s 8ms/step - loss: 0.1989 - val_loss: 0.1973\n",
            "Epoch 78/100\n",
            "235/235 [==============================] - 2s 7ms/step - loss: 0.1965 - val_loss: 0.1959\n",
            "Epoch 79/100\n",
            "235/235 [==============================] - 2s 7ms/step - loss: 0.1973 - val_loss: 0.1961\n",
            "Epoch 80/100\n",
            "235/235 [==============================] - 2s 7ms/step - loss: 0.1962 - val_loss: 0.1958\n",
            "Epoch 81/100\n",
            "235/235 [==============================] - 2s 8ms/step - loss: 0.1972 - val_loss: 0.1966\n",
            "Epoch 82/100\n",
            "235/235 [==============================] - 2s 9ms/step - loss: 0.1968 - val_loss: 0.1961\n",
            "Epoch 83/100\n",
            "235/235 [==============================] - 2s 7ms/step - loss: 0.1976 - val_loss: 0.1988\n",
            "Epoch 84/100\n",
            "235/235 [==============================] - 2s 8ms/step - loss: 0.1973 - val_loss: 0.1958\n",
            "Epoch 85/100\n",
            "235/235 [==============================] - 2s 7ms/step - loss: 0.1963 - val_loss: 0.1980\n",
            "Epoch 86/100\n",
            "235/235 [==============================] - 2s 7ms/step - loss: 0.1963 - val_loss: 0.1951\n",
            "Epoch 87/100\n",
            "235/235 [==============================] - 2s 7ms/step - loss: 0.1956 - val_loss: 0.1947\n",
            "Epoch 88/100\n",
            "235/235 [==============================] - 2s 8ms/step - loss: 0.1954 - val_loss: 0.1960\n",
            "Epoch 89/100\n",
            "235/235 [==============================] - 2s 9ms/step - loss: 0.1951 - val_loss: 0.1967\n",
            "Epoch 90/100\n",
            "235/235 [==============================] - 2s 7ms/step - loss: 0.1969 - val_loss: 0.2001\n",
            "Epoch 91/100\n",
            "235/235 [==============================] - 2s 7ms/step - loss: 0.1980 - val_loss: 0.1980\n",
            "Epoch 92/100\n",
            "235/235 [==============================] - 2s 8ms/step - loss: 0.1968 - val_loss: 0.1960\n",
            "Epoch 93/100\n",
            "235/235 [==============================] - 2s 8ms/step - loss: 0.1953 - val_loss: 0.1950\n",
            "Epoch 94/100\n",
            "235/235 [==============================] - 2s 7ms/step - loss: 0.1948 - val_loss: 0.1958\n",
            "Epoch 95/100\n",
            "235/235 [==============================] - 2s 10ms/step - loss: 0.1947 - val_loss: 0.1950\n",
            "Epoch 96/100\n",
            "235/235 [==============================] - 2s 8ms/step - loss: 0.1948 - val_loss: 0.1944\n",
            "Epoch 97/100\n",
            "235/235 [==============================] - 2s 7ms/step - loss: 0.1941 - val_loss: 0.1937\n",
            "Epoch 98/100\n",
            "235/235 [==============================] - 2s 7ms/step - loss: 0.1941 - val_loss: 0.1953\n",
            "Epoch 99/100\n",
            "235/235 [==============================] - 2s 7ms/step - loss: 0.1947 - val_loss: 0.1941\n",
            "Epoch 100/100\n",
            "235/235 [==============================] - 2s 7ms/step - loss: 0.1939 - val_loss: 0.1942\n"
          ]
        },
        {
          "output_type": "execute_result",
          "data": {
            "text/plain": [
              "<keras.callbacks.History at 0x7fe2a812a860>"
            ]
          },
          "metadata": {},
          "execution_count": 12
        }
      ]
    },
    {
      "cell_type": "code",
      "source": [
        "#Visualize the outputs\n",
        "import matplotlib.pyplot as plt\n",
        "\n",
        "decoded_imgs = model.predict(x_test)\n",
        "\n",
        "n = 10\n",
        "plt.figure(figsize=(20, 4))\n",
        "for i in range(1, n + 1):\n",
        "    # Display original\n",
        "    ax = plt.subplot(2, n, i)\n",
        "    plt.imshow(x_test[i].reshape(28, 28))\n",
        "    plt.gray()\n",
        "    ax.get_xaxis().set_visible(False)\n",
        "    ax.get_yaxis().set_visible(False)\n",
        "\n",
        "    # Display reconstruction\n",
        "    ax = plt.subplot(2, n, i + n)\n",
        "    plt.imshow(decoded_imgs[i].reshape(28, 28))\n",
        "    plt.gray()\n",
        "    ax.get_xaxis().set_visible(False)\n",
        "    ax.get_yaxis().set_visible(False)\n",
        "plt.show()"
      ],
      "metadata": {
        "colab": {
          "base_uri": "https://localhost:8080/",
          "height": 322
        },
        "id": "4QZMECHGopLJ",
        "outputId": "1bf723dd-30e9-4cfc-a7db-908efae9d0d5"
      },
      "execution_count": null,
      "outputs": [
        {
          "output_type": "stream",
          "name": "stdout",
          "text": [
            "313/313 [==============================] - 1s 2ms/step\n"
          ]
        },
        {
          "output_type": "display_data",
          "data": {
            "text/plain": [
              "<Figure size 2000x400 with 20 Axes>"
            ],
            "image/png": "[encoded data removed]"
          },
          "metadata": {}
        }
      ]
    },
    {
      "cell_type": "markdown",
      "source": [
        "#### How to get the output of intermediate layer ?"
      ],
      "metadata": {
        "id": "dZdtr-VXq1YV"
      }
    },
    {
      "cell_type": "code",
      "source": [
        "model.summary()"
      ],
      "metadata": {
        "colab": {
          "base_uri": "https://localhost:8080/"
        },
        "id": "UDp1hN2gsMK_",
        "outputId": "d77166c5-cb97-4160-848a-c75dee2761f2",
        "collapsed": true
      },
      "execution_count": null,
      "outputs": [
        {
          "output_type": "stream",
          "name": "stdout",
          "text": [
            "Model: \"model_1\"\n",
            "_________________________________________________________________\n",
            " Layer (type)                Output Shape              Param #   \n",
            "=================================================================\n",
            " input_2 (InputLayer)        [(None, 784)]             0         \n",
            "                                                                 \n",
            " dense_6 (Dense)             (None, 128)               100480    \n",
            "                                                                 \n",
            " dense_7 (Dense)             (None, 64)                8256      \n",
            "                                                                 \n",
            " dense_8 (Dense)             (None, 32)                2080      \n",
            "                                                                 \n",
            " dense_9 (Dense)             (None, 16)                528       \n",
            "                                                                 \n",
            " dense_10 (Dense)            (None, 8)                 136       \n",
            "                                                                 \n",
            " dense_11 (Dense)            (None, 4)                 36        \n",
            "                                                                 \n",
            " dense_12 (Dense)            (None, 2)                 10        \n",
            "                                                                 \n",
            " dense_13 (Dense)            (None, 4)                 12        \n",
            "                                                                 \n",
            " dense_14 (Dense)            (None, 8)                 40        \n",
            "                                                                 \n",
            " dense_15 (Dense)            (None, 16)                144       \n",
            "                                                                 \n",
            " dense_16 (Dense)            (None, 32)                544       \n",
            "                                                                 \n",
            " dense_17 (Dense)            (None, 64)                2112      \n",
            "                                                                 \n",
            " dense_18 (Dense)            (None, 128)               8320      \n",
            "                                                                 \n",
            " dense_19 (Dense)            (None, 784)               101136    \n",
            "                                                                 \n",
            "=================================================================\n",
            "Total params: 223,834\n",
            "Trainable params: 223,834\n",
            "Non-trainable params: 0\n",
            "_________________________________________________________________\n"
          ]
        }
      ]
    },
    {
      "cell_type": "markdown",
      "source": [
        "We need the output of 8th layer"
      ],
      "metadata": {
        "id": "7WepXF3pqwhi"
      }
    },
    {
      "cell_type": "code",
      "source": [
        "model.layers"
      ],
      "metadata": {
        "colab": {
          "base_uri": "https://localhost:8080/"
        },
        "id": "8daRg6Nyq48f",
        "outputId": "59cc5b62-79b6-4093-b3fa-325a74659e50"
      },
      "execution_count": null,
      "outputs": [
        {
          "output_type": "execute_result",
          "data": {
            "text/plain": [
              "[<keras.engine.input_layer.InputLayer at 0x7fe2a83b2bc0>,\n",
              " <keras.layers.core.dense.Dense at 0x7fe2a83b2980>,\n",
              " <keras.layers.core.dense.Dense at 0x7fe2aacbe080>,\n",
              " <keras.layers.core.dense.Dense at 0x7fe2aacbf2b0>,\n",
              " <keras.layers.core.dense.Dense at 0x7fe2a8250b80>,\n",
              " <keras.layers.core.dense.Dense at 0x7fe2a8250c10>,\n",
              " <keras.layers.core.dense.Dense at 0x7fe2a82528c0>,\n",
              " <keras.layers.core.dense.Dense at 0x7fe2a8250b20>,\n",
              " <keras.layers.core.dense.Dense at 0x7fe2a8253970>,\n",
              " <keras.layers.core.dense.Dense at 0x7fe2a82515d0>,\n",
              " <keras.layers.core.dense.Dense at 0x7fe2a826ca90>,\n",
              " <keras.layers.core.dense.Dense at 0x7fe2a826d450>,\n",
              " <keras.layers.core.dense.Dense at 0x7fe2a826d630>,\n",
              " <keras.layers.core.dense.Dense at 0x7fe2a826ea70>,\n",
              " <keras.layers.core.dense.Dense at 0x7fe2a826f970>]"
            ]
          },
          "metadata": {},
          "execution_count": 15
        }
      ]
    },
    {
      "cell_type": "code",
      "source": [
        "model.layers[7].output"
      ],
      "metadata": {
        "colab": {
          "base_uri": "https://localhost:8080/"
        },
        "id": "19lECE7Rq6lW",
        "outputId": "f01bca84-d302-4d59-f09b-fe6a93623f54"
      },
      "execution_count": null,
      "outputs": [
        {
          "output_type": "execute_result",
          "data": {
            "text/plain": [
              "<KerasTensor: shape=(None, 2) dtype=float32 (created by layer 'dense_12')>"
            ]
          },
          "metadata": {},
          "execution_count": 16
        }
      ]
    },
    {
      "cell_type": "markdown",
      "source": [
        "Make a new model with\n",
        "- input same as previous model and\n",
        "- 7th layer output as model output (as layers starts from 0 )"
      ],
      "metadata": {
        "id": "zFY7q4Srq-Fb"
      }
    },
    {
      "cell_type": "code",
      "source": [
        "dim_2_model = keras.Model(model.input, model.layers[7].output)"
      ],
      "metadata": {
        "id": "V9tNuzqLquwQ"
      },
      "execution_count": null,
      "outputs": []
    },
    {
      "cell_type": "markdown",
      "source": [
        "#### Comparing results with tsne"
      ],
      "metadata": {
        "id": "OP3zlGCBqbPx"
      }
    },
    {
      "cell_type": "code",
      "source": [
        "!pip install openTSNE"
      ],
      "metadata": {
        "colab": {
          "base_uri": "https://localhost:8080/"
        },
        "id": "s05uK_hiAsJa",
        "outputId": "4ef58712-8a81-4c2f-c048-c51d3e326027"
      },
      "execution_count": null,
      "outputs": [
        {
          "output_type": "stream",
          "name": "stdout",
          "text": [
            "Looking in indexes: https://pypi.org/simple, https://us-python.pkg.dev/colab-wheels/public/simple/\n",
            "Collecting openTSNE\n",
            "  Downloading openTSNE-1.0.0-cp310-cp310-manylinux_2_17_x86_64.manylinux2014_x86_64.whl (2.7 MB)\n",
            "\u001b[2K     \u001b[90m━━━━━━━━━━━━━━━━━━━━━━━━━━━━━━━━━━━━━━━━\u001b[0m \u001b[32m2.7/2.7 MB\u001b[0m \u001b[31m61.8 MB/s\u001b[0m eta \u001b[36m0:00:00\u001b[0m\n",
            "\u001b[?25hRequirement already satisfied: numpy>=1.16.6 in /usr/local/lib/python3.10/dist-packages (from openTSNE) (1.22.4)\n",
            "Requirement already satisfied: scikit-learn>=0.20 in /usr/local/lib/python3.10/dist-packages (from openTSNE) (1.2.2)\n",
            "Requirement already satisfied: scipy in /usr/local/lib/python3.10/dist-packages (from openTSNE) (1.10.1)\n",
            "Requirement already satisfied: joblib>=1.1.1 in /usr/local/lib/python3.10/dist-packages (from scikit-learn>=0.20->openTSNE) (1.2.0)\n",
            "Requirement already satisfied: threadpoolctl>=2.0.0 in /usr/local/lib/python3.10/dist-packages (from scikit-learn>=0.20->openTSNE) (3.1.0)\n",
            "Installing collected packages: openTSNE\n",
            "Successfully installed openTSNE-1.0.0\n"
          ]
        }
      ]
    },
    {
      "cell_type": "code",
      "source": [
        "from openTSNE import TSNE"
      ],
      "metadata": {
        "id": "gvj5b4LpDZz6"
      },
      "execution_count": null,
      "outputs": []
    },
    {
      "cell_type": "code",
      "source": [
        "indices = np.random.choice(x_test.shape[0], 1000, replace = False)"
      ],
      "metadata": {
        "id": "Aq8FCaMMvOmZ"
      },
      "execution_count": null,
      "outputs": []
    },
    {
      "cell_type": "code",
      "source": [
        "sample = x_test[indices]"
      ],
      "metadata": {
        "id": "SaJmd3tZwDpc"
      },
      "execution_count": null,
      "outputs": []
    },
    {
      "cell_type": "code",
      "source": [
        "sample_y = y_test[indices]"
      ],
      "metadata": {
        "id": "pegw9EocwKbp"
      },
      "execution_count": null,
      "outputs": []
    },
    {
      "cell_type": "code",
      "source": [
        "# tSNE\n",
        "%%time\n",
        "Z2 = TSNE(n_jobs=-1, initialization='random', random_state=42, negative_gradient_method='bh').fit(sample)"
      ],
      "metadata": {
        "colab": {
          "base_uri": "https://localhost:8080/"
        },
        "id": "noV-wpsEBy2E",
        "outputId": "2507299a-4019-4ef0-bbcd-502865c699d2"
      },
      "execution_count": null,
      "outputs": [
        {
          "output_type": "stream",
          "name": "stdout",
          "text": [
            "CPU times: user 8.38 s, sys: 71.5 ms, total: 8.46 s\n",
            "Wall time: 4.72 s\n"
          ]
        }
      ]
    },
    {
      "cell_type": "markdown",
      "source": [
        "#### **Visualizing t-SNE results**"
      ],
      "metadata": {
        "id": "Q2pTwx3sEjUv"
      }
    },
    {
      "cell_type": "code",
      "source": [
        "import seaborn as sns\n",
        "from matplotlib import pyplot as plt\n",
        "from matplotlib.colors import ListedColormap\n",
        "\n",
        "cmap = ListedColormap(sns.husl_palette(len(np.unique(sample_y))))"
      ],
      "metadata": {
        "id": "U-B8YAaTuxKU"
      },
      "execution_count": null,
      "outputs": []
    },
    {
      "cell_type": "code",
      "source": [
        "fig, ax = plt.subplots()\n",
        "fig.set_figheight(10)\n",
        "fig.set_figwidth(10)\n",
        "ax.set_title('TSNE visualization of MNIST')\n",
        "im = ax.scatter(Z2[:,0], Z2[:,1], s=25, c=sample_y, cmap=cmap, edgecolor='none')\n",
        "cbar = fig.colorbar(im, ax=ax,label='Digit')"
      ],
      "metadata": {
        "colab": {
          "base_uri": "https://localhost:8080/",
          "height": 853
        },
        "id": "QkY_pq-4Dwko",
        "outputId": "a452bb61-523f-436b-a31e-10c9793da1da"
      },
      "execution_count": null,
      "outputs": [
        {
          "output_type": "display_data",
          "data": {
            "text/plain": [
              "<Figure size 1000x1000 with 2 Axes>"
            ],
            "image/png": "[encoded data removed]"
          },
          "metadata": {}
        }
      ]
    },
    {
      "cell_type": "markdown",
      "source": [
        "#### Visualizing AE results"
      ],
      "metadata": {
        "id": "7YbIOBKYsPtR"
      }
    },
    {
      "cell_type": "code",
      "source": [
        "dim_2d = dim_2_model.predict(sample)"
      ],
      "metadata": {
        "colab": {
          "base_uri": "https://localhost:8080/"
        },
        "id": "9XAz72x_rPE8",
        "outputId": "1d8185b3-356c-484f-d691-4587ea02ce5e"
      },
      "execution_count": null,
      "outputs": [
        {
          "output_type": "stream",
          "name": "stdout",
          "text": [
            "32/32 [==============================] - 0s 1ms/step\n"
          ]
        }
      ]
    },
    {
      "cell_type": "code",
      "source": [
        "dim_2d"
      ],
      "metadata": {
        "colab": {
          "base_uri": "https://localhost:8080/"
        },
        "id": "XFiItSrorZaV",
        "outputId": "f8a62dfd-63fa-4e1d-cd17-e7640290df16"
      },
      "execution_count": null,
      "outputs": [
        {
          "output_type": "execute_result",
          "data": {
            "text/plain": [
              "array([[0.9812436 , 0.        ],\n",
              "       [0.6268663 , 0.        ],\n",
              "       [3.6355464 , 0.        ],\n",
              "       ...,\n",
              "       [3.392712  , 0.        ],\n",
              "       [0.99806726, 0.        ],\n",
              "       [1.2852949 , 0.        ]], dtype=float32)"
            ]
          },
          "metadata": {},
          "execution_count": 27
        }
      ]
    },
    {
      "cell_type": "code",
      "source": [
        "dim_2d.shape"
      ],
      "metadata": {
        "colab": {
          "base_uri": "https://localhost:8080/"
        },
        "id": "9RqC6pYPrdd2",
        "outputId": "cb5827c9-4f92-4da1-820e-180cb646c15d"
      },
      "execution_count": null,
      "outputs": [
        {
          "output_type": "execute_result",
          "data": {
            "text/plain": [
              "(1000, 2)"
            ]
          },
          "metadata": {},
          "execution_count": 28
        }
      ]
    },
    {
      "cell_type": "code",
      "source": [
        "fig, ax = plt.subplots()\n",
        "fig.set_figheight(10)\n",
        "fig.set_figwidth(10)\n",
        "ax.set_title('AE visualization of MNIST')\n",
        "\n",
        "im = ax.scatter(dim_2d[:,0], dim_2d[:,1], s=25, c=sample_y, cmap=cmap, edgecolor='none')\n",
        "cbar = fig.colorbar(im, ax=ax,label='Digit')"
      ],
      "metadata": {
        "colab": {
          "base_uri": "https://localhost:8080/",
          "height": 853
        },
        "id": "XhCUBnGVwYCY",
        "outputId": "6773b893-d318-48cd-ae7e-80c2a3cbf271"
      },
      "execution_count": null,
      "outputs": [
        {
          "output_type": "display_data",
          "data": {
            "text/plain": [
              "<Figure size 1000x1000 with 2 Axes>"
            ],
            "image/png": "[encoded data removed]"
          },
          "metadata": {}
        }
      ]
    },
    {
      "cell_type": "markdown",
      "source": [
        "Decoder deciphiers"
      ],
      "metadata": {
        "id": "F1KO0KkjYnAD"
      }
    },
    {
      "cell_type": "markdown",
      "source": [
        "## Feature Extraction and Transfer learning"
      ],
      "metadata": {
        "id": "7v5nwcqXyetP"
      }
    },
    {
      "cell_type": "markdown",
      "source": [
        "### Feature Extraction"
      ],
      "metadata": {
        "id": "hQ9r2iXsFEI5"
      }
    },
    {
      "cell_type": "markdown",
      "source": [
        "Consider the following neural network"
      ],
      "metadata": {
        "id": "9ej9yE00BDYs"
      }
    },
    {
      "cell_type": "markdown",
      "source": [
        "<center><img src='https://drive.google.com/uc?id=1KA2oNn1McfGs6KwHevEvl78SJpR-I2A6' width=\"700\"></center>\n"
      ],
      "metadata": {
        "id": "w-guI32O6QiX"
      }
    },
    {
      "cell_type": "markdown",
      "source": [
        "The idea of feature extraction is\n",
        "- although there can be some information loss\n",
        "- we know that emebeddings has the the information\n",
        "\n",
        "So, we can use them as features\n",
        "\n",
        "\n"
      ],
      "metadata": {
        "id": "jrkvtKTI6NHS"
      }
    },
    {
      "cell_type": "markdown",
      "source": [
        "Once we have these embeddings,\n",
        "- we can go back to ML/DL\n",
        "- and perform any task (say classification)\n",
        "- with embeddings as our features."
      ],
      "metadata": {
        "id": "0RbCf3dcCV5R"
      }
    },
    {
      "cell_type": "markdown",
      "source": [
        "<center><img src='https://drive.google.com/uc?id=1MhQUGUkVYNYI79su0qWWNaJUNGHfkIED' width=\"700\"></center>\n",
        "\n"
      ],
      "metadata": {
        "id": "nof0uIwvCeMf"
      }
    },
    {
      "cell_type": "markdown",
      "source": [
        "For example:\n",
        "\n",
        "- Say, we have image data and we want to classification\n",
        "\n",
        "#### Question: Are DT and log. regression good enough to classify image data ?\n",
        "\n",
        "No. right."
      ],
      "metadata": {
        "id": "fGs1airNCoTQ"
      }
    },
    {
      "cell_type": "markdown",
      "source": [
        "#### What can we do instead ?"
      ],
      "metadata": {
        "id": "5WdnyNPCC3Et"
      }
    },
    {
      "cell_type": "markdown",
      "source": [
        "We can run an autoencoder to get the embeddings\n",
        "- and use them to run KNN, Log. reg. or Tree based model.\n"
      ],
      "metadata": {
        "id": "zBM4cz7iC6nX"
      }
    },
    {
      "cell_type": "markdown",
      "source": [
        "For recommender system\n",
        "- we can get the embeddings\n",
        "- and run cosine similiarity on it\n",
        "- or cluster the embeddings."
      ],
      "metadata": {
        "id": "xbg7wliMEagX"
      }
    },
    {
      "cell_type": "markdown",
      "source": [
        "### Transfer Learning"
      ],
      "metadata": {
        "id": "1God_hsZDKvA"
      }
    },
    {
      "cell_type": "markdown",
      "source": [],
      "metadata": {
        "id": "R-nok7qlUgJ5"
      }
    },
    {
      "cell_type": "markdown",
      "source": [
        "Consider the following complex network with millions of parameters"
      ],
      "metadata": {
        "id": "lXhwD_YLFW4P"
      }
    },
    {
      "cell_type": "markdown",
      "source": [
        "<center><img src='https://drive.google.com/uc?id=1Dc3nJH-8s6Hxdv97goL1aJ8ZpVRfvjW5' width=\"800\"></center>\n",
        "\n"
      ],
      "metadata": {
        "id": "OkuGaSDRFISg"
      }
    },
    {
      "cell_type": "markdown",
      "source": [
        "Suppose it is is a binary classification model\n",
        "- i.e. output layer has single neuron with sigmoid as activation function"
      ],
      "metadata": {
        "id": "huUzVmD3FQu3"
      }
    },
    {
      "cell_type": "markdown",
      "source": [
        "Now, the network was trained to detect\n",
        "- whether a person has cancer on not based on the images provided.\n",
        "\n"
      ],
      "metadata": {
        "id": "Khiew54PFfX2"
      }
    },
    {
      "cell_type": "markdown",
      "source": [
        "Say, our usecase is to detect whether a person has covid or not\n",
        "\n",
        "#### What choices do we have ?\n",
        "\n",
        "**Solution 1: Build a model from scratch and train it.**\n",
        "- But we may not get the same result as researchers who ran their deep NN model on GPU for weeks/months to get the weights\n",
        "\n",
        "**Solution 2: Use pre-trained model to get embeddings**\n",
        "- We can use a pre trained model (cancer model)\n",
        "    - to generate embeddings\n",
        "    - and then use those embeddings as input\n",
        "    - to run DL/ML model for our task (covid prediction)\n",
        "\n",
        "It was orginally created for other task but we use the output of intermediate layer for another task.\n",
        "\n",
        "This is called as **Transfer Learning**\n",
        "    "
      ],
      "metadata": {
        "id": "Woc1z2cbFwnY"
      }
    },
    {
      "cell_type": "markdown",
      "source": [
        "## Denoising Auto Encoders"
      ],
      "metadata": {
        "id": "hveoDYIrGQLO"
      }
    },
    {
      "cell_type": "markdown",
      "source": [
        "Sometimes some encoders\n",
        "- can have more number of neuron compared to input\n",
        "- i.e. it's stepping up instead of stepping down"
      ],
      "metadata": {
        "id": "A3cZkzm4Kud2"
      }
    },
    {
      "cell_type": "markdown",
      "source": [
        "<center><img src='https://drive.google.com/uc?id=18PHAqBopJuu2_MTS2ncfcaRlGf5tNQwD' width=\"700\"></center>\n",
        "\n"
      ],
      "metadata": {
        "id": "1BQjTq6bKaJV"
      }
    },
    {
      "cell_type": "markdown",
      "source": [
        "Sometimes auto encoders can overfit\n",
        "- and learn something called **identity function**\n",
        "- i.e. output = input"
      ],
      "metadata": {
        "id": "oYw5hNzZKC2e"
      }
    },
    {
      "cell_type": "markdown",
      "source": [
        "#### How can we deal with this ?"
      ],
      "metadata": {
        "id": "bPIvN9r4KhsR"
      }
    },
    {
      "cell_type": "markdown",
      "source": [
        "<center><img src='https://drive.google.com/uc?id=17FK2tFU2mhMb10lec9efrx86j3pHP1As' width=\"700\"></center>\n",
        "\n"
      ],
      "metadata": {
        "id": "48E2jZEqLM-l"
      }
    },
    {
      "cell_type": "markdown",
      "source": [
        "To deal with this,\n",
        "- we add some random noise the the input"
      ],
      "metadata": {
        "id": "l6cax_QfLSgr"
      }
    },
    {
      "cell_type": "markdown",
      "source": [
        "#### What happens when we add random noise to it ?"
      ],
      "metadata": {
        "id": "to4wm1IKLYba"
      }
    },
    {
      "cell_type": "markdown",
      "source": [
        "Now, as we have added random noise to our input\n",
        "- we know if network fully recreates the input\n",
        "- it means network has overfitted.\n",
        "\n",
        "\n",
        "And the network should not be recreate the noise\n",
        "- as there is no pattern to it\n",
        "\n",
        "Think of it as regularization over the network\n",
        "- as network can't recreate the noise\n",
        "- it ends up recreating the original data\n",
        "\n",
        "**The network cleans the data of any noise**"
      ],
      "metadata": {
        "id": "EZx-tz_-Lbs7"
      }
    },
    {
      "cell_type": "markdown",
      "source": [
        "### Code walkthrough"
      ],
      "metadata": {
        "id": "nlii7gT4LmOx"
      }
    },
    {
      "cell_type": "code",
      "source": [
        "from keras.datasets import mnist\n",
        "import numpy as np\n",
        "\n",
        "(x_train, _), (x_test, _) = mnist.load_data()\n",
        "\n",
        "#Normalize\n",
        "x_train = x_train.astype('float32') / 255.\n",
        "x_test = x_test.astype('float32') / 255.\n",
        "\n",
        "#Reshape\n",
        "x_train = x_train.reshape((len(x_train), np.prod(x_train.shape[1:])))\n",
        "x_test = x_test.reshape((len(x_test), np.prod(x_test.shape[1:])))\n",
        "\n",
        "#add NOISE - adding noise with random normal distribution\n",
        "noise_factor = 1\n",
        "x_train_noisy = x_train + noise_factor * np.random.normal(loc=0.0, scale=1.0, size=x_train.shape)\n",
        "x_test_noisy = x_test + noise_factor * np.random.normal(loc=0.0, scale=1.0, size=x_test.shape)\n",
        "\n",
        "x_train_noisy = np.clip(x_train_noisy, 0., 1.)\n",
        "x_test_noisy = np.clip(x_test_noisy, 0., 1.)\n",
        "\n",
        "print(x_train.shape)\n",
        "print(x_train_noisy.shape)\n",
        "print(x_test.shape)\n",
        "print(x_test_noisy.shape)"
      ],
      "metadata": {
        "colab": {
          "base_uri": "https://localhost:8080/"
        },
        "id": "U8aSYSxhyg8Y",
        "outputId": "33df5564-58d0-46e2-e7ab-4c3ec5bfb504"
      },
      "execution_count": null,
      "outputs": [
        {
          "output_type": "stream",
          "name": "stdout",
          "text": [
            "(60000, 784)\n",
            "(60000, 784)\n",
            "(10000, 784)\n",
            "(10000, 784)\n"
          ]
        }
      ]
    },
    {
      "cell_type": "code",
      "source": [
        "n = 10\n",
        "plt.figure(figsize=(20, 2))\n",
        "for i in range(1, n + 1):\n",
        "    ax = plt.subplot(1, n, i)\n",
        "    plt.imshow(x_test_noisy[i].reshape(28, 28))\n",
        "    plt.gray()\n",
        "    ax.get_xaxis().set_visible(False)\n",
        "    ax.get_yaxis().set_visible(False)\n",
        "plt.show()\n"
      ],
      "metadata": {
        "colab": {
          "base_uri": "https://localhost:8080/",
          "height": 153
        },
        "id": "QWhj1dBXyn_O",
        "outputId": "4ad78dbd-a7c6-4021-ab7e-468542ad5fad"
      },
      "execution_count": null,
      "outputs": [
        {
          "output_type": "display_data",
          "data": {
            "text/plain": [
              "<Figure size 2000x200 with 10 Axes>"
            ],
            "image/png": "[encoded data removed]"
          },
          "metadata": {}
        }
      ]
    },
    {
      "cell_type": "code",
      "source": [
        "#AutoEncoder model\n",
        "input_img = keras.Input(shape=(784,))\n",
        "encoded = layers.Dense(128, activation='relu')(input_img)\n",
        "encoded = layers.Dense(64, activation='relu')(encoded)\n",
        "encoded = layers.Dense(32, activation='relu')(encoded)\n",
        "\n",
        "decoded = layers.Dense(64, activation='relu')(encoded)\n",
        "decoded = layers.Dense(128, activation='relu')(decoded)\n",
        "decoded = layers.Dense(784, activation='sigmoid')(decoded)\n",
        "\n",
        "# Compile and Fit\n",
        "autoencoder = keras.Model(input_img, decoded)\n",
        "autoencoder.compile(optimizer='adam', loss='mse')\n",
        "\n",
        "autoencoder.fit(x_train_noisy, x_train, # NOTE: input is noisy, output is noisy\n",
        "                epochs=100,\n",
        "                batch_size=256,\n",
        "                shuffle=True,\n",
        "                validation_data=(x_test_noisy, x_test_noisy))"
      ],
      "metadata": {
        "colab": {
          "base_uri": "https://localhost:8080/"
        },
        "id": "yuNMX-O5yzqF",
        "outputId": "6829ad78-c5a4-4499-9e81-a9d7aa8f5865"
      },
      "execution_count": null,
      "outputs": [
        {
          "output_type": "stream",
          "name": "stdout",
          "text": [
            "Epoch 1/100\n",
            "\u001b[1m235/235\u001b[0m \u001b[32m━━━━━━━━━━━━━━━━━━━━\u001b[0m\u001b[37m\u001b[0m \u001b[1m5s\u001b[0m 12ms/step - loss: 0.1167 - val_loss: 0.0976\n",
            "Epoch 2/100\n",
            "\u001b[1m235/235\u001b[0m \u001b[32m━━━━━━━━━━━━━━━━━━━━\u001b[0m\u001b[37m\u001b[0m \u001b[1m2s\u001b[0m 3ms/step - loss: 0.0960 - val_loss: 0.0932\n",
            "Epoch 3/100\n",
            "\u001b[1m235/235\u001b[0m \u001b[32m━━━━━━━━━━━━━━━━━━━━\u001b[0m\u001b[37m\u001b[0m \u001b[1m1s\u001b[0m 3ms/step - loss: 0.0927 - val_loss: 0.0913\n",
            "Epoch 4/100\n",
            "\u001b[1m235/235\u001b[0m \u001b[32m━━━━━━━━━━━━━━━━━━━━\u001b[0m\u001b[37m\u001b[0m \u001b[1m1s\u001b[0m 3ms/step - loss: 0.0910 - val_loss: 0.0905\n",
            "Epoch 5/100\n",
            "\u001b[1m235/235\u001b[0m \u001b[32m━━━━━━━━━━━━━━━━━━━━\u001b[0m\u001b[37m\u001b[0m \u001b[1m1s\u001b[0m 3ms/step - loss: 0.0901 - val_loss: 0.0892\n",
            "Epoch 6/100\n",
            "\u001b[1m235/235\u001b[0m \u001b[32m━━━━━━━━━━━━━━━━━━━━\u001b[0m\u001b[37m\u001b[0m \u001b[1m1s\u001b[0m 3ms/step - loss: 0.0892 - val_loss: 0.0884\n",
            "Epoch 7/100\n",
            "\u001b[1m235/235\u001b[0m \u001b[32m━━━━━━━━━━━━━━━━━━━━\u001b[0m\u001b[37m\u001b[0m \u001b[1m1s\u001b[0m 3ms/step - loss: 0.0885 - val_loss: 0.0880\n",
            "Epoch 8/100\n",
            "\u001b[1m235/235\u001b[0m \u001b[32m━━━━━━━━━━━━━━━━━━━━\u001b[0m\u001b[37m\u001b[0m \u001b[1m1s\u001b[0m 3ms/step - loss: 0.0880 - val_loss: 0.0876\n",
            "Epoch 9/100\n",
            "\u001b[1m235/235\u001b[0m \u001b[32m━━━━━━━━━━━━━━━━━━━━\u001b[0m\u001b[37m\u001b[0m \u001b[1m1s\u001b[0m 3ms/step - loss: 0.0878 - val_loss: 0.0874\n",
            "Epoch 10/100\n",
            "\u001b[1m235/235\u001b[0m \u001b[32m━━━━━━━━━━━━━━━━━━━━\u001b[0m\u001b[37m\u001b[0m \u001b[1m1s\u001b[0m 3ms/step - loss: 0.0875 - val_loss: 0.0872\n",
            "Epoch 11/100\n",
            "\u001b[1m235/235\u001b[0m \u001b[32m━━━━━━━━━━━━━━━━━━━━\u001b[0m\u001b[37m\u001b[0m \u001b[1m1s\u001b[0m 4ms/step - loss: 0.0873 - val_loss: 0.0871\n",
            "Epoch 12/100\n",
            "\u001b[1m235/235\u001b[0m \u001b[32m━━━━━━━━━━━━━━━━━━━━\u001b[0m\u001b[37m\u001b[0m \u001b[1m1s\u001b[0m 4ms/step - loss: 0.0871 - val_loss: 0.0868\n",
            "Epoch 13/100\n",
            "\u001b[1m235/235\u001b[0m \u001b[32m━━━━━━━━━━━━━━━━━━━━\u001b[0m\u001b[37m\u001b[0m \u001b[1m1s\u001b[0m 3ms/step - loss: 0.0869 - val_loss: 0.0866\n",
            "Epoch 14/100\n",
            "\u001b[1m235/235\u001b[0m \u001b[32m━━━━━━━━━━━━━━━━━━━━\u001b[0m\u001b[37m\u001b[0m \u001b[1m1s\u001b[0m 3ms/step - loss: 0.0867 - val_loss: 0.0864\n",
            "Epoch 15/100\n",
            "\u001b[1m235/235\u001b[0m \u001b[32m━━━━━━━━━━━━━━━━━━━━\u001b[0m\u001b[37m\u001b[0m \u001b[1m1s\u001b[0m 3ms/step - loss: 0.0866 - val_loss: 0.0863\n",
            "Epoch 16/100\n",
            "\u001b[1m235/235\u001b[0m \u001b[32m━━━━━━━━━━━━━━━━━━━━\u001b[0m\u001b[37m\u001b[0m \u001b[1m1s\u001b[0m 3ms/step - loss: 0.0863 - val_loss: 0.0861\n",
            "Epoch 17/100\n",
            "\u001b[1m235/235\u001b[0m \u001b[32m━━━━━━━━━━━━━━━━━━━━\u001b[0m\u001b[37m\u001b[0m \u001b[1m1s\u001b[0m 3ms/step - loss: 0.0862 - val_loss: 0.0859\n",
            "Epoch 18/100\n",
            "\u001b[1m235/235\u001b[0m \u001b[32m━━━━━━━━━━━━━━━━━━━━\u001b[0m\u001b[37m\u001b[0m \u001b[1m1s\u001b[0m 3ms/step - loss: 0.0860 - val_loss: 0.0858\n",
            "Epoch 19/100\n",
            "\u001b[1m235/235\u001b[0m \u001b[32m━━━━━━━━━━━━━━━━━━━━\u001b[0m\u001b[37m\u001b[0m \u001b[1m1s\u001b[0m 3ms/step - loss: 0.0859 - val_loss: 0.0857\n",
            "Epoch 20/100\n",
            "\u001b[1m235/235\u001b[0m \u001b[32m━━━━━━━━━━━━━━━━━━━━\u001b[0m\u001b[37m\u001b[0m \u001b[1m1s\u001b[0m 3ms/step - loss: 0.0857 - val_loss: 0.0856\n",
            "Epoch 21/100\n",
            "\u001b[1m235/235\u001b[0m \u001b[32m━━━━━━━━━━━━━━━━━━━━\u001b[0m\u001b[37m\u001b[0m \u001b[1m1s\u001b[0m 3ms/step - loss: 0.0856 - val_loss: 0.0854\n",
            "Epoch 22/100\n",
            "\u001b[1m235/235\u001b[0m \u001b[32m━━━━━━━━━━━━━━━━━━━━\u001b[0m\u001b[37m\u001b[0m \u001b[1m1s\u001b[0m 3ms/step - loss: 0.0855 - val_loss: 0.0853\n",
            "Epoch 23/100\n",
            "\u001b[1m235/235\u001b[0m \u001b[32m━━━━━━━━━━━━━━━━━━━━\u001b[0m\u001b[37m\u001b[0m \u001b[1m1s\u001b[0m 4ms/step - loss: 0.0854 - val_loss: 0.0853\n",
            "Epoch 24/100\n",
            "\u001b[1m235/235\u001b[0m \u001b[32m━━━━━━━━━━━━━━━━━━━━\u001b[0m\u001b[37m\u001b[0m \u001b[1m1s\u001b[0m 4ms/step - loss: 0.0854 - val_loss: 0.0853\n",
            "Epoch 25/100\n",
            "\u001b[1m235/235\u001b[0m \u001b[32m━━━━━━━━━━━━━━━━━━━━\u001b[0m\u001b[37m\u001b[0m \u001b[1m1s\u001b[0m 3ms/step - loss: 0.0853 - val_loss: 0.0853\n",
            "Epoch 26/100\n",
            "\u001b[1m235/235\u001b[0m \u001b[32m━━━━━━━━━━━━━━━━━━━━\u001b[0m\u001b[37m\u001b[0m \u001b[1m1s\u001b[0m 3ms/step - loss: 0.0853 - val_loss: 0.0852\n",
            "Epoch 27/100\n",
            "\u001b[1m235/235\u001b[0m \u001b[32m━━━━━━━━━━━━━━━━━━━━\u001b[0m\u001b[37m\u001b[0m \u001b[1m1s\u001b[0m 3ms/step - loss: 0.0853 - val_loss: 0.0852\n",
            "Epoch 28/100\n",
            "\u001b[1m235/235\u001b[0m \u001b[32m━━━━━━━━━━━━━━━━━━━━\u001b[0m\u001b[37m\u001b[0m \u001b[1m1s\u001b[0m 3ms/step - loss: 0.0853 - val_loss: 0.0851\n",
            "Epoch 29/100\n",
            "\u001b[1m235/235\u001b[0m \u001b[32m━━━━━━━━━━━━━━━━━━━━\u001b[0m\u001b[37m\u001b[0m \u001b[1m1s\u001b[0m 3ms/step - loss: 0.0852 - val_loss: 0.0851\n",
            "Epoch 30/100\n",
            "\u001b[1m235/235\u001b[0m \u001b[32m━━━━━━━━━━━━━━━━━━━━\u001b[0m\u001b[37m\u001b[0m \u001b[1m1s\u001b[0m 3ms/step - loss: 0.0851 - val_loss: 0.0850\n",
            "Epoch 31/100\n",
            "\u001b[1m235/235\u001b[0m \u001b[32m━━━━━━━━━━━━━━━━━━━━\u001b[0m\u001b[37m\u001b[0m \u001b[1m1s\u001b[0m 3ms/step - loss: 0.0851 - val_loss: 0.0851\n",
            "Epoch 32/100\n",
            "\u001b[1m235/235\u001b[0m \u001b[32m━━━━━━━━━━━━━━━━━━━━\u001b[0m\u001b[37m\u001b[0m \u001b[1m1s\u001b[0m 3ms/step - loss: 0.0851 - val_loss: 0.0850\n",
            "Epoch 33/100\n",
            "\u001b[1m235/235\u001b[0m \u001b[32m━━━━━━━━━━━━━━━━━━━━\u001b[0m\u001b[37m\u001b[0m \u001b[1m1s\u001b[0m 3ms/step - loss: 0.0850 - val_loss: 0.0850\n",
            "Epoch 34/100\n",
            "\u001b[1m235/235\u001b[0m \u001b[32m━━━━━━━━━━━━━━━━━━━━\u001b[0m\u001b[37m\u001b[0m \u001b[1m1s\u001b[0m 3ms/step - loss: 0.0850 - val_loss: 0.0850\n",
            "Epoch 35/100\n",
            "\u001b[1m235/235\u001b[0m \u001b[32m━━━━━━━━━━━━━━━━━━━━\u001b[0m\u001b[37m\u001b[0m \u001b[1m1s\u001b[0m 3ms/step - loss: 0.0850 - val_loss: 0.0849\n",
            "Epoch 36/100\n",
            "\u001b[1m235/235\u001b[0m \u001b[32m━━━━━━━━━━━━━━━━━━━━\u001b[0m\u001b[37m\u001b[0m \u001b[1m1s\u001b[0m 4ms/step - loss: 0.0850 - val_loss: 0.0849\n",
            "Epoch 37/100\n",
            "\u001b[1m235/235\u001b[0m \u001b[32m━━━━━━━━━━━━━━━━━━━━\u001b[0m\u001b[37m\u001b[0m \u001b[1m1s\u001b[0m 4ms/step - loss: 0.0849 - val_loss: 0.0849\n",
            "Epoch 38/100\n",
            "\u001b[1m235/235\u001b[0m \u001b[32m━━━━━━━━━━━━━━━━━━━━\u001b[0m\u001b[37m\u001b[0m \u001b[1m1s\u001b[0m 3ms/step - loss: 0.0849 - val_loss: 0.0848\n",
            "Epoch 39/100\n",
            "\u001b[1m235/235\u001b[0m \u001b[32m━━━━━━━━━━━━━━━━━━━━\u001b[0m\u001b[37m\u001b[0m \u001b[1m1s\u001b[0m 3ms/step - loss: 0.0849 - val_loss: 0.0849\n",
            "Epoch 40/100\n",
            "\u001b[1m235/235\u001b[0m \u001b[32m━━━━━━━━━━━━━━━━━━━━\u001b[0m\u001b[37m\u001b[0m \u001b[1m1s\u001b[0m 3ms/step - loss: 0.0849 - val_loss: 0.0848\n",
            "Epoch 41/100\n",
            "\u001b[1m235/235\u001b[0m \u001b[32m━━━━━━━━━━━━━━━━━━━━\u001b[0m\u001b[37m\u001b[0m \u001b[1m1s\u001b[0m 3ms/step - loss: 0.0849 - val_loss: 0.0848\n",
            "Epoch 42/100\n",
            "\u001b[1m235/235\u001b[0m \u001b[32m━━━━━━━━━━━━━━━━━━━━\u001b[0m\u001b[37m\u001b[0m \u001b[1m1s\u001b[0m 3ms/step - loss: 0.0848 - val_loss: 0.0848\n",
            "Epoch 43/100\n",
            "\u001b[1m235/235\u001b[0m \u001b[32m━━━━━━━━━━━━━━━━━━━━\u001b[0m\u001b[37m\u001b[0m \u001b[1m1s\u001b[0m 3ms/step - loss: 0.0848 - val_loss: 0.0848\n",
            "Epoch 44/100\n",
            "\u001b[1m235/235\u001b[0m \u001b[32m━━━━━━━━━━━━━━━━━━━━\u001b[0m\u001b[37m\u001b[0m \u001b[1m1s\u001b[0m 3ms/step - loss: 0.0848 - val_loss: 0.0847\n",
            "Epoch 45/100\n",
            "\u001b[1m235/235\u001b[0m \u001b[32m━━━━━━━━━━━━━━━━━━━━\u001b[0m\u001b[37m\u001b[0m \u001b[1m1s\u001b[0m 3ms/step - loss: 0.0848 - val_loss: 0.0847\n",
            "Epoch 46/100\n",
            "\u001b[1m235/235\u001b[0m \u001b[32m━━━━━━━━━━━━━━━━━━━━\u001b[0m\u001b[37m\u001b[0m \u001b[1m1s\u001b[0m 3ms/step - loss: 0.0848 - val_loss: 0.0847\n",
            "Epoch 47/100\n",
            "\u001b[1m235/235\u001b[0m \u001b[32m━━━━━━━━━━━━━━━━━━━━\u001b[0m\u001b[37m\u001b[0m \u001b[1m1s\u001b[0m 3ms/step - loss: 0.0848 - val_loss: 0.0847\n",
            "Epoch 48/100\n",
            "\u001b[1m235/235\u001b[0m \u001b[32m━━━━━━━━━━━━━━━━━━━━\u001b[0m\u001b[37m\u001b[0m \u001b[1m1s\u001b[0m 3ms/step - loss: 0.0847 - val_loss: 0.0847\n",
            "Epoch 49/100\n",
            "\u001b[1m235/235\u001b[0m \u001b[32m━━━━━━━━━━━━━━━━━━━━\u001b[0m\u001b[37m\u001b[0m \u001b[1m1s\u001b[0m 3ms/step - loss: 0.0847 - val_loss: 0.0847\n",
            "Epoch 50/100\n",
            "\u001b[1m235/235\u001b[0m \u001b[32m━━━━━━━━━━━━━━━━━━━━\u001b[0m\u001b[37m\u001b[0m \u001b[1m1s\u001b[0m 4ms/step - loss: 0.0847 - val_loss: 0.0846\n",
            "Epoch 51/100\n",
            "\u001b[1m235/235\u001b[0m \u001b[32m━━━━━━━━━━━━━━━━━━━━\u001b[0m\u001b[37m\u001b[0m \u001b[1m1s\u001b[0m 3ms/step - loss: 0.0847 - val_loss: 0.0847\n",
            "Epoch 52/100\n",
            "\u001b[1m235/235\u001b[0m \u001b[32m━━━━━━━━━━━━━━━━━━━━\u001b[0m\u001b[37m\u001b[0m \u001b[1m1s\u001b[0m 3ms/step - loss: 0.0847 - val_loss: 0.0847\n",
            "Epoch 53/100\n",
            "\u001b[1m235/235\u001b[0m \u001b[32m━━━━━━━━━━━━━━━━━━━━\u001b[0m\u001b[37m\u001b[0m \u001b[1m1s\u001b[0m 3ms/step - loss: 0.0846 - val_loss: 0.0846\n",
            "Epoch 54/100\n",
            "\u001b[1m235/235\u001b[0m \u001b[32m━━━━━━━━━━━━━━━━━━━━\u001b[0m\u001b[37m\u001b[0m \u001b[1m1s\u001b[0m 3ms/step - loss: 0.0847 - val_loss: 0.0846\n",
            "Epoch 55/100\n",
            "\u001b[1m235/235\u001b[0m \u001b[32m━━━━━━━━━━━━━━━━━━━━\u001b[0m\u001b[37m\u001b[0m \u001b[1m1s\u001b[0m 3ms/step - loss: 0.0847 - val_loss: 0.0846\n",
            "Epoch 56/100\n",
            "\u001b[1m235/235\u001b[0m \u001b[32m━━━━━━━━━━━━━━━━━━━━\u001b[0m\u001b[37m\u001b[0m \u001b[1m1s\u001b[0m 3ms/step - loss: 0.0846 - val_loss: 0.0846\n",
            "Epoch 57/100\n",
            "\u001b[1m235/235\u001b[0m \u001b[32m━━━━━━━━━━━━━━━━━━━━\u001b[0m\u001b[37m\u001b[0m \u001b[1m1s\u001b[0m 3ms/step - loss: 0.0846 - val_loss: 0.0847\n",
            "Epoch 58/100\n",
            "\u001b[1m235/235\u001b[0m \u001b[32m━━━━━━━━━━━━━━━━━━━━\u001b[0m\u001b[37m\u001b[0m \u001b[1m1s\u001b[0m 3ms/step - loss: 0.0846 - val_loss: 0.0846\n",
            "Epoch 59/100\n",
            "\u001b[1m235/235\u001b[0m \u001b[32m━━━━━━━━━━━━━━━━━━━━\u001b[0m\u001b[37m\u001b[0m \u001b[1m1s\u001b[0m 3ms/step - loss: 0.0846 - val_loss: 0.0846\n",
            "Epoch 60/100\n",
            "\u001b[1m235/235\u001b[0m \u001b[32m━━━━━━━━━━━━━━━━━━━━\u001b[0m\u001b[37m\u001b[0m \u001b[1m1s\u001b[0m 3ms/step - loss: 0.0846 - val_loss: 0.0846\n",
            "Epoch 61/100\n",
            "\u001b[1m235/235\u001b[0m \u001b[32m━━━━━━━━━━━━━━━━━━━━\u001b[0m\u001b[37m\u001b[0m \u001b[1m1s\u001b[0m 4ms/step - loss: 0.0846 - val_loss: 0.0846\n",
            "Epoch 62/100\n",
            "\u001b[1m235/235\u001b[0m \u001b[32m━━━━━━━━━━━━━━━━━━━━\u001b[0m\u001b[37m\u001b[0m \u001b[1m1s\u001b[0m 4ms/step - loss: 0.0846 - val_loss: 0.0846\n",
            "Epoch 63/100\n",
            "\u001b[1m235/235\u001b[0m \u001b[32m━━━━━━━━━━━━━━━━━━━━\u001b[0m\u001b[37m\u001b[0m \u001b[1m1s\u001b[0m 3ms/step - loss: 0.0845 - val_loss: 0.0846\n",
            "Epoch 64/100\n",
            "\u001b[1m235/235\u001b[0m \u001b[32m━━━━━━━━━━━━━━━━━━━━\u001b[0m\u001b[37m\u001b[0m \u001b[1m1s\u001b[0m 3ms/step - loss: 0.0845 - val_loss: 0.0846\n",
            "Epoch 65/100\n",
            "\u001b[1m235/235\u001b[0m \u001b[32m━━━━━━━━━━━━━━━━━━━━\u001b[0m\u001b[37m\u001b[0m \u001b[1m1s\u001b[0m 3ms/step - loss: 0.0846 - val_loss: 0.0845\n",
            "Epoch 66/100\n",
            "\u001b[1m235/235\u001b[0m \u001b[32m━━━━━━━━━━━━━━━━━━━━\u001b[0m\u001b[37m\u001b[0m \u001b[1m1s\u001b[0m 3ms/step - loss: 0.0845 - val_loss: 0.0845\n",
            "Epoch 67/100\n",
            "\u001b[1m235/235\u001b[0m \u001b[32m━━━━━━━━━━━━━━━━━━━━\u001b[0m\u001b[37m\u001b[0m \u001b[1m1s\u001b[0m 3ms/step - loss: 0.0845 - val_loss: 0.0845\n",
            "Epoch 68/100\n",
            "\u001b[1m235/235\u001b[0m \u001b[32m━━━━━━━━━━━━━━━━━━━━\u001b[0m\u001b[37m\u001b[0m \u001b[1m1s\u001b[0m 3ms/step - loss: 0.0845 - val_loss: 0.0845\n",
            "Epoch 69/100\n",
            "\u001b[1m235/235\u001b[0m \u001b[32m━━━━━━━━━━━━━━━━━━━━\u001b[0m\u001b[37m\u001b[0m \u001b[1m1s\u001b[0m 3ms/step - loss: 0.0845 - val_loss: 0.0845\n",
            "Epoch 70/100\n",
            "\u001b[1m235/235\u001b[0m \u001b[32m━━━━━━━━━━━━━━━━━━━━\u001b[0m\u001b[37m\u001b[0m \u001b[1m1s\u001b[0m 3ms/step - loss: 0.0845 - val_loss: 0.0845\n",
            "Epoch 71/100\n",
            "\u001b[1m235/235\u001b[0m \u001b[32m━━━━━━━━━━━━━━━━━━━━\u001b[0m\u001b[37m\u001b[0m \u001b[1m1s\u001b[0m 3ms/step - loss: 0.0845 - val_loss: 0.0844\n",
            "Epoch 72/100\n",
            "\u001b[1m235/235\u001b[0m \u001b[32m━━━━━━━━━━━━━━━━━━━━\u001b[0m\u001b[37m\u001b[0m \u001b[1m1s\u001b[0m 4ms/step - loss: 0.0845 - val_loss: 0.0845\n",
            "Epoch 73/100\n",
            "\u001b[1m235/235\u001b[0m \u001b[32m━━━━━━━━━━━━━━━━━━━━\u001b[0m\u001b[37m\u001b[0m \u001b[1m1s\u001b[0m 4ms/step - loss: 0.0844 - val_loss: 0.0845\n",
            "Epoch 74/100\n",
            "\u001b[1m235/235\u001b[0m \u001b[32m━━━━━━━━━━━━━━━━━━━━\u001b[0m\u001b[37m\u001b[0m \u001b[1m1s\u001b[0m 3ms/step - loss: 0.0844 - val_loss: 0.0844\n",
            "Epoch 75/100\n",
            "\u001b[1m235/235\u001b[0m \u001b[32m━━━━━━━━━━━━━━━━━━━━\u001b[0m\u001b[37m\u001b[0m \u001b[1m1s\u001b[0m 3ms/step - loss: 0.0844 - val_loss: 0.0844\n",
            "Epoch 76/100\n",
            "\u001b[1m235/235\u001b[0m \u001b[32m━━━━━━━━━━━━━━━━━━━━\u001b[0m\u001b[37m\u001b[0m \u001b[1m1s\u001b[0m 3ms/step - loss: 0.0844 - val_loss: 0.0844\n",
            "Epoch 77/100\n",
            "\u001b[1m235/235\u001b[0m \u001b[32m━━━━━━━━━━━━━━━━━━━━\u001b[0m\u001b[37m\u001b[0m \u001b[1m1s\u001b[0m 3ms/step - loss: 0.0844 - val_loss: 0.0844\n",
            "Epoch 78/100\n",
            "\u001b[1m235/235\u001b[0m \u001b[32m━━━━━━━━━━━━━━━━━━━━\u001b[0m\u001b[37m\u001b[0m \u001b[1m1s\u001b[0m 3ms/step - loss: 0.0844 - val_loss: 0.0844\n",
            "Epoch 79/100\n",
            "\u001b[1m235/235\u001b[0m \u001b[32m━━━━━━━━━━━━━━━━━━━━\u001b[0m\u001b[37m\u001b[0m \u001b[1m1s\u001b[0m 3ms/step - loss: 0.0844 - val_loss: 0.0844\n",
            "Epoch 80/100\n",
            "\u001b[1m235/235\u001b[0m \u001b[32m━━━━━━━━━━━━━━━━━━━━\u001b[0m\u001b[37m\u001b[0m \u001b[1m1s\u001b[0m 3ms/step - loss: 0.0844 - val_loss: 0.0844\n",
            "Epoch 81/100\n",
            "\u001b[1m235/235\u001b[0m \u001b[32m━━━━━━━━━━━━━━━━━━━━\u001b[0m\u001b[37m\u001b[0m \u001b[1m1s\u001b[0m 3ms/step - loss: 0.0843 - val_loss: 0.0844\n",
            "Epoch 82/100\n",
            "\u001b[1m235/235\u001b[0m \u001b[32m━━━━━━━━━━━━━━━━━━━━\u001b[0m\u001b[37m\u001b[0m \u001b[1m1s\u001b[0m 3ms/step - loss: 0.0843 - val_loss: 0.0844\n",
            "Epoch 83/100\n",
            "\u001b[1m235/235\u001b[0m \u001b[32m━━━━━━━━━━━━━━━━━━━━\u001b[0m\u001b[37m\u001b[0m \u001b[1m1s\u001b[0m 3ms/step - loss: 0.0843 - val_loss: 0.0844\n",
            "Epoch 84/100\n",
            "\u001b[1m235/235\u001b[0m \u001b[32m━━━━━━━━━━━━━━━━━━━━\u001b[0m\u001b[37m\u001b[0m \u001b[1m1s\u001b[0m 4ms/step - loss: 0.0843 - val_loss: 0.0844\n",
            "Epoch 85/100\n",
            "\u001b[1m235/235\u001b[0m \u001b[32m━━━━━━━━━━━━━━━━━━━━\u001b[0m\u001b[37m\u001b[0m \u001b[1m1s\u001b[0m 4ms/step - loss: 0.0843 - val_loss: 0.0844\n",
            "Epoch 86/100\n",
            "\u001b[1m235/235\u001b[0m \u001b[32m━━━━━━━━━━━━━━━━━━━━\u001b[0m\u001b[37m\u001b[0m \u001b[1m1s\u001b[0m 3ms/step - loss: 0.0843 - val_loss: 0.0844\n",
            "Epoch 87/100\n",
            "\u001b[1m235/235\u001b[0m \u001b[32m━━━━━━━━━━━━━━━━━━━━\u001b[0m\u001b[37m\u001b[0m \u001b[1m1s\u001b[0m 3ms/step - loss: 0.0843 - val_loss: 0.0844\n",
            "Epoch 88/100\n",
            "\u001b[1m235/235\u001b[0m \u001b[32m━━━━━━━━━━━━━━━━━━━━\u001b[0m\u001b[37m\u001b[0m \u001b[1m1s\u001b[0m 3ms/step - loss: 0.0843 - val_loss: 0.0844\n",
            "Epoch 89/100\n",
            "\u001b[1m235/235\u001b[0m \u001b[32m━━━━━━━━━━━━━━━━━━━━\u001b[0m\u001b[37m\u001b[0m \u001b[1m1s\u001b[0m 3ms/step - loss: 0.0843 - val_loss: 0.0843\n",
            "Epoch 90/100\n",
            "\u001b[1m235/235\u001b[0m \u001b[32m━━━━━━━━━━━━━━━━━━━━\u001b[0m\u001b[37m\u001b[0m \u001b[1m1s\u001b[0m 3ms/step - loss: 0.0843 - val_loss: 0.0843\n",
            "Epoch 91/100\n",
            "\u001b[1m235/235\u001b[0m \u001b[32m━━━━━━━━━━━━━━━━━━━━\u001b[0m\u001b[37m\u001b[0m \u001b[1m1s\u001b[0m 3ms/step - loss: 0.0843 - val_loss: 0.0843\n",
            "Epoch 92/100\n",
            "\u001b[1m235/235\u001b[0m \u001b[32m━━━━━━━━━━━━━━━━━━━━\u001b[0m\u001b[37m\u001b[0m \u001b[1m1s\u001b[0m 3ms/step - loss: 0.0843 - val_loss: 0.0843\n",
            "Epoch 93/100\n",
            "\u001b[1m235/235\u001b[0m \u001b[32m━━━━━━━━━━━━━━━━━━━━\u001b[0m\u001b[37m\u001b[0m \u001b[1m1s\u001b[0m 3ms/step - loss: 0.0843 - val_loss: 0.0843\n",
            "Epoch 94/100\n",
            "\u001b[1m235/235\u001b[0m \u001b[32m━━━━━━━━━━━━━━━━━━━━\u001b[0m\u001b[37m\u001b[0m \u001b[1m1s\u001b[0m 3ms/step - loss: 0.0843 - val_loss: 0.0844\n",
            "Epoch 95/100\n",
            "\u001b[1m235/235\u001b[0m \u001b[32m━━━━━━━━━━━━━━━━━━━━\u001b[0m\u001b[37m\u001b[0m \u001b[1m1s\u001b[0m 3ms/step - loss: 0.0843 - val_loss: 0.0843\n",
            "Epoch 96/100\n",
            "\u001b[1m235/235\u001b[0m \u001b[32m━━━━━━━━━━━━━━━━━━━━\u001b[0m\u001b[37m\u001b[0m \u001b[1m1s\u001b[0m 4ms/step - loss: 0.0842 - val_loss: 0.0843\n",
            "Epoch 97/100\n",
            "\u001b[1m235/235\u001b[0m \u001b[32m━━━━━━━━━━━━━━━━━━━━\u001b[0m\u001b[37m\u001b[0m \u001b[1m1s\u001b[0m 4ms/step - loss: 0.0843 - val_loss: 0.0843\n",
            "Epoch 98/100\n",
            "\u001b[1m235/235\u001b[0m \u001b[32m━━━━━━━━━━━━━━━━━━━━\u001b[0m\u001b[37m\u001b[0m \u001b[1m1s\u001b[0m 3ms/step - loss: 0.0843 - val_loss: 0.0843\n",
            "Epoch 99/100\n",
            "\u001b[1m235/235\u001b[0m \u001b[32m━━━━━━━━━━━━━━━━━━━━\u001b[0m\u001b[37m\u001b[0m \u001b[1m1s\u001b[0m 3ms/step - loss: 0.0842 - val_loss: 0.0843\n",
            "Epoch 100/100\n",
            "\u001b[1m235/235\u001b[0m \u001b[32m━━━━━━━━━━━━━━━━━━━━\u001b[0m\u001b[37m\u001b[0m \u001b[1m1s\u001b[0m 3ms/step - loss: 0.0842 - val_loss: 0.0843\n"
          ]
        },
        {
          "output_type": "execute_result",
          "data": {
            "text/plain": [
              "<keras.src.callbacks.history.History at 0x7a3d11431c00>"
            ]
          },
          "metadata": {},
          "execution_count": 6
        }
      ]
    },
    {
      "cell_type": "code",
      "source": [
        "#Visualize the outputs\n",
        "import matplotlib.pyplot as plt\n",
        "\n",
        "decoded_imgs = autoencoder.predict(x_test_noisy)\n",
        "\n",
        "n = 10\n",
        "plt.figure(figsize=(20, 4))\n",
        "for i in range(1, n + 1):\n",
        "    # Display original\n",
        "    ax = plt.subplot(2, n, i)\n",
        "    plt.imshow(x_test_noisy[i].reshape(28, 28))\n",
        "    plt.gray()\n",
        "    ax.get_xaxis().set_visible(False)\n",
        "    ax.get_yaxis().set_visible(False)\n",
        "\n",
        "    # Display reconstruction\n",
        "    ax = plt.subplot(2, n, i + n)\n",
        "    plt.imshow(decoded_imgs[i].reshape(28, 28))\n",
        "    plt.gray()\n",
        "    ax.get_xaxis().set_visible(False)\n",
        "    ax.get_yaxis().set_visible(False)\n",
        "plt.show()"
      ],
      "metadata": {
        "colab": {
          "base_uri": "https://localhost:8080/",
          "height": 244
        },
        "id": "P7zmOcrg0lbj",
        "outputId": "94ab9bc8-798e-4c94-cb94-1c715f1a645e"
      },
      "execution_count": null,
      "outputs": [
        {
          "output_type": "stream",
          "name": "stdout",
          "text": [
            "\u001b[1m313/313\u001b[0m \u001b[32m━━━━━━━━━━━━━━━━━━━━\u001b[0m\u001b[37m\u001b[0m \u001b[1m1s\u001b[0m 2ms/step\n"
          ]
        },
        {
          "output_type": "display_data",
          "data": {
            "text/plain": [
              "<Figure size 2000x400 with 20 Axes>"
            ],
            "image/png": "[encoded data removed]"
          },
          "metadata": {}
        }
      ]
    },
    {
      "cell_type": "markdown",
      "source": [
        "## Recommender System using AE"
      ],
      "metadata": {
        "id": "VfYJZJJaMfRc"
      }
    },
    {
      "cell_type": "markdown",
      "source": [
        "<center><img src='https://drive.google.com/uc?id=1I-AUm4W8bcadVKPWc3v-Q25JO6xpWzcf' width=\"700\"></center>\n",
        "\n"
      ],
      "metadata": {
        "id": "ex3KDYAQMg-g"
      }
    },
    {
      "cell_type": "markdown",
      "source": [
        "Recall the user-item iteraction matrix\n",
        "- where each row represents the user\n",
        "- columns represents the movie ratings by user\n",
        "\n",
        "Do note that this iteraction matrix is sparse"
      ],
      "metadata": {
        "id": "v_xCa4nxMwEx"
      }
    },
    {
      "cell_type": "markdown",
      "source": [
        "Now, we can use these item vectors (movie ratings)\n",
        "- as a input to our AE\n",
        "- learn a dense embeddings\n",
        "- and use these embeddings to find similar movies."
      ],
      "metadata": {
        "id": "VVuFfJjNQwts"
      }
    },
    {
      "cell_type": "markdown",
      "source": [
        "### Code walkthough"
      ],
      "metadata": {
        "id": "skQP8JpKRi9m"
      }
    },
    {
      "cell_type": "code",
      "execution_count": null,
      "metadata": {
        "id": "a540d7c7"
      },
      "outputs": [],
      "source": [
        "import numpy as np\n",
        "import pandas as pd\n",
        "\n",
        "\n",
        "import warnings\n",
        "warnings.filterwarnings('ignore')"
      ]
    },
    {
      "cell_type": "markdown",
      "source": [
        "#### Loading data"
      ],
      "metadata": {
        "id": "giIGB8BzLAHD"
      }
    },
    {
      "cell_type": "code",
      "source": [
        "!gdown 1EsPvxcp5lzdltC3yLar1_laArmk9RZpw\n",
        "!gdown 1DgdthLfHLIq3AnS4YAa1bne-OM90oHoD"
      ],
      "metadata": {
        "colab": {
          "base_uri": "https://localhost:8080/"
        },
        "id": "Es7gKlbBGJ-Y",
        "outputId": "4656c3cf-26d9-42ee-a666-ce8fb96a5ef3"
      },
      "execution_count": null,
      "outputs": [
        {
          "output_type": "stream",
          "name": "stdout",
          "text": [
            "Downloading...\n",
            "From: https://drive.google.com/uc?id=1EsPvxcp5lzdltC3yLar1_laArmk9RZpw\n",
            "To: /content/ratings.csv\n",
            "100% 2.48M/2.48M [00:00<00:00, 191MB/s]\n",
            "Downloading...\n",
            "From: https://drive.google.com/uc?id=1DgdthLfHLIq3AnS4YAa1bne-OM90oHoD\n",
            "To: /content/movies.csv\n",
            "100% 516k/516k [00:00<00:00, 175MB/s]\n"
          ]
        }
      ]
    },
    {
      "cell_type": "code",
      "execution_count": null,
      "metadata": {
        "id": "76e44531"
      },
      "outputs": [],
      "source": [
        "ratings = pd.read_csv('ratings.csv')"
      ]
    },
    {
      "cell_type": "markdown",
      "source": [
        "#### What's the shape of ratings ?"
      ],
      "metadata": {
        "id": "771aGRAcgxfd"
      }
    },
    {
      "cell_type": "code",
      "source": [
        "ratings.shape"
      ],
      "metadata": {
        "colab": {
          "base_uri": "https://localhost:8080/"
        },
        "id": "u_KTw_YeEkXN",
        "outputId": "5442aa85-a626-43fb-a2e7-f394cbc35ee4"
      },
      "execution_count": null,
      "outputs": [
        {
          "output_type": "execute_result",
          "data": {
            "text/plain": [
              "(105339, 4)"
            ]
          },
          "metadata": {},
          "execution_count": 84
        }
      ]
    },
    {
      "cell_type": "markdown",
      "source": [
        "#### How many unique movie ids do we have ?"
      ],
      "metadata": {
        "id": "32JAo3Qyg0w7"
      }
    },
    {
      "cell_type": "code",
      "source": [
        "ratings.movieId.unique().shape"
      ],
      "metadata": {
        "colab": {
          "base_uri": "https://localhost:8080/"
        },
        "id": "ZRjEGKg_EP8X",
        "outputId": "11764779-9932-4d76-8756-18257706a239"
      },
      "execution_count": null,
      "outputs": [
        {
          "output_type": "execute_result",
          "data": {
            "text/plain": [
              "(10325,)"
            ]
          },
          "metadata": {},
          "execution_count": 85
        }
      ]
    },
    {
      "cell_type": "code",
      "execution_count": null,
      "metadata": {
        "id": "41689109",
        "outputId": "a3d95e39-31ee-47b5-f84e-fb7453a30490",
        "colab": {
          "base_uri": "https://localhost:8080/",
          "height": 206
        }
      },
      "outputs": [
        {
          "output_type": "execute_result",
          "data": {
            "text/plain": [
              "   userId  movieId  rating   timestamp\n",
              "0       1       16     4.0  1217897793\n",
              "1       1       24     1.5  1217895807\n",
              "2       1       32     4.0  1217896246\n",
              "3       1       47     4.0  1217896556\n",
              "4       1       50     4.0  1217896523"
            ],
            "text/html": [
              "\n",
              "  <div id=\"df-c1ad3576-47fb-43a9-a57f-3c7ab0bbc3cd\">\n",
              "    <div class=\"colab-df-container\">\n",
              "      <div>\n",
              "<style scoped>\n",
              "    .dataframe tbody tr th:only-of-type {\n",
              "        vertical-align: middle;\n",
              "    }\n",
              "\n",
              "    .dataframe tbody tr th {\n",
              "        vertical-align: top;\n",
              "    }\n",
              "\n",
              "    .dataframe thead th {\n",
              "        text-align: right;\n",
              "    }\n",
              "</style>\n",
              "<table border=\"1\" class=\"dataframe\">\n",
              "  <thead>\n",
              "    <tr style=\"text-align: right;\">\n",
              "      <th></th>\n",
              "      <th>userId</th>\n",
              "      <th>movieId</th>\n",
              "      <th>rating</th>\n",
              "      <th>timestamp</th>\n",
              "    </tr>\n",
              "  </thead>\n",
              "  <tbody>\n",
              "    <tr>\n",
              "      <th>0</th>\n",
              "      <td>1</td>\n",
              "      <td>16</td>\n",
              "      <td>4.0</td>\n",
              "      <td>1217897793</td>\n",
              "    </tr>\n",
              "    <tr>\n",
              "      <th>1</th>\n",
              "      <td>1</td>\n",
              "      <td>24</td>\n",
              "      <td>1.5</td>\n",
              "      <td>1217895807</td>\n",
              "    </tr>\n",
              "    <tr>\n",
              "      <th>2</th>\n",
              "      <td>1</td>\n",
              "      <td>32</td>\n",
              "      <td>4.0</td>\n",
              "      <td>1217896246</td>\n",
              "    </tr>\n",
              "    <tr>\n",
              "      <th>3</th>\n",
              "      <td>1</td>\n",
              "      <td>47</td>\n",
              "      <td>4.0</td>\n",
              "      <td>1217896556</td>\n",
              "    </tr>\n",
              "    <tr>\n",
              "      <th>4</th>\n",
              "      <td>1</td>\n",
              "      <td>50</td>\n",
              "      <td>4.0</td>\n",
              "      <td>1217896523</td>\n",
              "    </tr>\n",
              "  </tbody>\n",
              "</table>\n",
              "</div>\n",
              "      <button class=\"colab-df-convert\" onclick=\"convertToInteractive('df-c1ad3576-47fb-43a9-a57f-3c7ab0bbc3cd')\"\n",
              "              title=\"Convert this dataframe to an interactive table.\"\n",
              "              style=\"display:none;\">\n",
              "        \n",
              "  <svg xmlns=\"http://www.w3.org/2000/svg\" height=\"24px\"viewBox=\"0 0 24 24\"\n",
              "       width=\"24px\">\n",
              "    <path d=\"M0 0h24v24H0V0z\" fill=\"none\"/>\n",
              "    <path d=\"M18.56 5.44l.94 2.06.94-2.06 2.06-.94-2.06-.94-.94-2.06-.94 2.06-2.06.94zm-11 1L8.5 8.5l.94-2.06 2.06-.94-2.06-.94L8.5 2.5l-.94 2.06-2.06.94zm10 10l.94 2.06.94-2.06 2.06-.94-2.06-.94-.94-2.06-.94 2.06-2.06.94z\"/><path d=\"M17.41 7.96l-1.37-1.37c-.4-.4-.92-.59-1.43-.59-.52 0-1.04.2-1.43.59L10.3 9.45l-7.72 7.72c-.78.78-.78 2.05 0 2.83L4 21.41c.39.39.9.59 1.41.59.51 0 1.02-.2 1.41-.59l7.78-7.78 2.81-2.81c.8-.78.8-2.07 0-2.86zM5.41 20L4 18.59l7.72-7.72 1.47 1.35L5.41 20z\"/>\n",
              "  </svg>\n",
              "      </button>\n",
              "      \n",
              "  <style>\n",
              "    .colab-df-container {\n",
              "      display:flex;\n",
              "      flex-wrap:wrap;\n",
              "      gap: 12px;\n",
              "    }\n",
              "\n",
              "    .colab-df-convert {\n",
              "      background-color: #E8F0FE;\n",
              "      border: none;\n",
              "      border-radius: 50%;\n",
              "      cursor: pointer;\n",
              "      display: none;\n",
              "      fill: #1967D2;\n",
              "      height: 32px;\n",
              "      padding: 0 0 0 0;\n",
              "      width: 32px;\n",
              "    }\n",
              "\n",
              "    .colab-df-convert:hover {\n",
              "      background-color: #E2EBFA;\n",
              "      box-shadow: 0px 1px 2px rgba(60, 64, 67, 0.3), 0px 1px 3px 1px rgba(60, 64, 67, 0.15);\n",
              "      fill: #174EA6;\n",
              "    }\n",
              "\n",
              "    [theme=dark] .colab-df-convert {\n",
              "      background-color: #3B4455;\n",
              "      fill: #D2E3FC;\n",
              "    }\n",
              "\n",
              "    [theme=dark] .colab-df-convert:hover {\n",
              "      background-color: #434B5C;\n",
              "      box-shadow: 0px 1px 3px 1px rgba(0, 0, 0, 0.15);\n",
              "      filter: drop-shadow(0px 1px 2px rgba(0, 0, 0, 0.3));\n",
              "      fill: #FFFFFF;\n",
              "    }\n",
              "  </style>\n",
              "\n",
              "      <script>\n",
              "        const buttonEl =\n",
              "          document.querySelector('#df-c1ad3576-47fb-43a9-a57f-3c7ab0bbc3cd button.colab-df-convert');\n",
              "        buttonEl.style.display =\n",
              "          google.colab.kernel.accessAllowed ? 'block' : 'none';\n",
              "\n",
              "        async function convertToInteractive(key) {\n",
              "          const element = document.querySelector('#df-c1ad3576-47fb-43a9-a57f-3c7ab0bbc3cd');\n",
              "          const dataTable =\n",
              "            await google.colab.kernel.invokeFunction('convertToInteractive',\n",
              "                                                     [key], {});\n",
              "          if (!dataTable) return;\n",
              "\n",
              "          const docLinkHtml = 'Like what you see? Visit the ' +\n",
              "            '<a target=\"_blank\" href=https://colab.research.google.com/notebooks/data_table.ipynb>data table notebook</a>'\n",
              "            + ' to learn more about interactive tables.';\n",
              "          element.innerHTML = '';\n",
              "          dataTable['output_type'] = 'display_data';\n",
              "          await google.colab.output.renderOutput(dataTable, element);\n",
              "          const docLink = document.createElement('div');\n",
              "          docLink.innerHTML = docLinkHtml;\n",
              "          element.appendChild(docLink);\n",
              "        }\n",
              "      </script>\n",
              "    </div>\n",
              "  </div>\n",
              "  "
            ]
          },
          "metadata": {},
          "execution_count": 87
        }
      ],
      "source": [
        "ratings.head()"
      ]
    },
    {
      "cell_type": "markdown",
      "source": [
        "#### Pivoting ratings table\n",
        "\n",
        "Rows - Movie id\n",
        "\n",
        "Columns = User id"
      ],
      "metadata": {
        "id": "ctha8w1sg3rI"
      }
    },
    {
      "cell_type": "code",
      "execution_count": null,
      "metadata": {
        "id": "911898fd",
        "outputId": "78469330-4f3e-4858-fc5c-baa739468549",
        "colab": {
          "base_uri": "https://localhost:8080/",
          "height": 267
        }
      },
      "outputs": [
        {
          "output_type": "execute_result",
          "data": {
            "text/plain": [
              "userId   1    2    3    4    5    6    7    8    9    10   ...  659  660  661  \\\n",
              "movieId                                                    ...                  \n",
              "1        0.0  5.0  0.0  0.0  4.0  0.0  0.0  5.0  0.0  0.0  ...  0.0  0.0  4.0   \n",
              "2        0.0  0.0  0.0  0.0  0.0  0.0  0.0  0.0  0.0  0.0  ...  0.0  0.0  0.0   \n",
              "3        0.0  2.0  0.0  0.0  0.0  0.0  0.0  4.0  3.0  0.0  ...  0.0  0.0  3.0   \n",
              "4        0.0  0.0  0.0  0.0  0.0  0.0  0.0  0.0  0.0  0.0  ...  0.0  0.0  0.0   \n",
              "5        0.0  3.0  3.0  0.0  0.0  0.0  0.0  3.0  0.0  0.0  ...  0.0  0.0  3.0   \n",
              "\n",
              "userId   662  663  664  665  666  667  668  \n",
              "movieId                                     \n",
              "1        5.0  3.0  0.0  0.0  0.0  0.0  3.0  \n",
              "2        5.0  0.0  0.0  0.0  0.0  0.0  3.0  \n",
              "3        0.0  0.0  0.0  0.0  0.0  0.0  2.0  \n",
              "4        0.0  0.0  0.0  0.0  0.0  0.0  0.0  \n",
              "5        0.0  0.0  0.0  0.0  0.0  0.0  2.5  \n",
              "\n",
              "[5 rows x 668 columns]"
            ],
            "text/html": [
              "\n",
              "  <div id=\"df-06410801-fe6c-48fa-8c95-986b4b71e4ce\">\n",
              "    <div class=\"colab-df-container\">\n",
              "      <div>\n",
              "<style scoped>\n",
              "    .dataframe tbody tr th:only-of-type {\n",
              "        vertical-align: middle;\n",
              "    }\n",
              "\n",
              "    .dataframe tbody tr th {\n",
              "        vertical-align: top;\n",
              "    }\n",
              "\n",
              "    .dataframe thead th {\n",
              "        text-align: right;\n",
              "    }\n",
              "</style>\n",
              "<table border=\"1\" class=\"dataframe\">\n",
              "  <thead>\n",
              "    <tr style=\"text-align: right;\">\n",
              "      <th>userId</th>\n",
              "      <th>1</th>\n",
              "      <th>2</th>\n",
              "      <th>3</th>\n",
              "      <th>4</th>\n",
              "      <th>5</th>\n",
              "      <th>6</th>\n",
              "      <th>7</th>\n",
              "      <th>8</th>\n",
              "      <th>9</th>\n",
              "      <th>10</th>\n",
              "      <th>...</th>\n",
              "      <th>659</th>\n",
              "      <th>660</th>\n",
              "      <th>661</th>\n",
              "      <th>662</th>\n",
              "      <th>663</th>\n",
              "      <th>664</th>\n",
              "      <th>665</th>\n",
              "      <th>666</th>\n",
              "      <th>667</th>\n",
              "      <th>668</th>\n",
              "    </tr>\n",
              "    <tr>\n",
              "      <th>movieId</th>\n",
              "      <th></th>\n",
              "      <th></th>\n",
              "      <th></th>\n",
              "      <th></th>\n",
              "      <th></th>\n",
              "      <th></th>\n",
              "      <th></th>\n",
              "      <th></th>\n",
              "      <th></th>\n",
              "      <th></th>\n",
              "      <th></th>\n",
              "      <th></th>\n",
              "      <th></th>\n",
              "      <th></th>\n",
              "      <th></th>\n",
              "      <th></th>\n",
              "      <th></th>\n",
              "      <th></th>\n",
              "      <th></th>\n",
              "      <th></th>\n",
              "      <th></th>\n",
              "    </tr>\n",
              "  </thead>\n",
              "  <tbody>\n",
              "    <tr>\n",
              "      <th>1</th>\n",
              "      <td>0.0</td>\n",
              "      <td>5.0</td>\n",
              "      <td>0.0</td>\n",
              "      <td>0.0</td>\n",
              "      <td>4.0</td>\n",
              "      <td>0.0</td>\n",
              "      <td>0.0</td>\n",
              "      <td>5.0</td>\n",
              "      <td>0.0</td>\n",
              "      <td>0.0</td>\n",
              "      <td>...</td>\n",
              "      <td>0.0</td>\n",
              "      <td>0.0</td>\n",
              "      <td>4.0</td>\n",
              "      <td>5.0</td>\n",
              "      <td>3.0</td>\n",
              "      <td>0.0</td>\n",
              "      <td>0.0</td>\n",
              "      <td>0.0</td>\n",
              "      <td>0.0</td>\n",
              "      <td>3.0</td>\n",
              "    </tr>\n",
              "    <tr>\n",
              "      <th>2</th>\n",
              "      <td>0.0</td>\n",
              "      <td>0.0</td>\n",
              "      <td>0.0</td>\n",
              "      <td>0.0</td>\n",
              "      <td>0.0</td>\n",
              "      <td>0.0</td>\n",
              "      <td>0.0</td>\n",
              "      <td>0.0</td>\n",
              "      <td>0.0</td>\n",
              "      <td>0.0</td>\n",
              "      <td>...</td>\n",
              "      <td>0.0</td>\n",
              "      <td>0.0</td>\n",
              "      <td>0.0</td>\n",
              "      <td>5.0</td>\n",
              "      <td>0.0</td>\n",
              "      <td>0.0</td>\n",
              "      <td>0.0</td>\n",
              "      <td>0.0</td>\n",
              "      <td>0.0</td>\n",
              "      <td>3.0</td>\n",
              "    </tr>\n",
              "    <tr>\n",
              "      <th>3</th>\n",
              "      <td>0.0</td>\n",
              "      <td>2.0</td>\n",
              "      <td>0.0</td>\n",
              "      <td>0.0</td>\n",
              "      <td>0.0</td>\n",
              "      <td>0.0</td>\n",
              "      <td>0.0</td>\n",
              "      <td>4.0</td>\n",
              "      <td>3.0</td>\n",
              "      <td>0.0</td>\n",
              "      <td>...</td>\n",
              "      <td>0.0</td>\n",
              "      <td>0.0</td>\n",
              "      <td>3.0</td>\n",
              "      <td>0.0</td>\n",
              "      <td>0.0</td>\n",
              "      <td>0.0</td>\n",
              "      <td>0.0</td>\n",
              "      <td>0.0</td>\n",
              "      <td>0.0</td>\n",
              "      <td>2.0</td>\n",
              "    </tr>\n",
              "    <tr>\n",
              "      <th>4</th>\n",
              "      <td>0.0</td>\n",
              "      <td>0.0</td>\n",
              "      <td>0.0</td>\n",
              "      <td>0.0</td>\n",
              "      <td>0.0</td>\n",
              "      <td>0.0</td>\n",
              "      <td>0.0</td>\n",
              "      <td>0.0</td>\n",
              "      <td>0.0</td>\n",
              "      <td>0.0</td>\n",
              "      <td>...</td>\n",
              "      <td>0.0</td>\n",
              "      <td>0.0</td>\n",
              "      <td>0.0</td>\n",
              "      <td>0.0</td>\n",
              "      <td>0.0</td>\n",
              "      <td>0.0</td>\n",
              "      <td>0.0</td>\n",
              "      <td>0.0</td>\n",
              "      <td>0.0</td>\n",
              "      <td>0.0</td>\n",
              "    </tr>\n",
              "    <tr>\n",
              "      <th>5</th>\n",
              "      <td>0.0</td>\n",
              "      <td>3.0</td>\n",
              "      <td>3.0</td>\n",
              "      <td>0.0</td>\n",
              "      <td>0.0</td>\n",
              "      <td>0.0</td>\n",
              "      <td>0.0</td>\n",
              "      <td>3.0</td>\n",
              "      <td>0.0</td>\n",
              "      <td>0.0</td>\n",
              "      <td>...</td>\n",
              "      <td>0.0</td>\n",
              "      <td>0.0</td>\n",
              "      <td>3.0</td>\n",
              "      <td>0.0</td>\n",
              "      <td>0.0</td>\n",
              "      <td>0.0</td>\n",
              "      <td>0.0</td>\n",
              "      <td>0.0</td>\n",
              "      <td>0.0</td>\n",
              "      <td>2.5</td>\n",
              "    </tr>\n",
              "  </tbody>\n",
              "</table>\n",
              "<p>5 rows × 668 columns</p>\n",
              "</div>\n",
              "      <button class=\"colab-df-convert\" onclick=\"convertToInteractive('df-06410801-fe6c-48fa-8c95-986b4b71e4ce')\"\n",
              "              title=\"Convert this dataframe to an interactive table.\"\n",
              "              style=\"display:none;\">\n",
              "        \n",
              "  <svg xmlns=\"http://www.w3.org/2000/svg\" height=\"24px\"viewBox=\"0 0 24 24\"\n",
              "       width=\"24px\">\n",
              "    <path d=\"M0 0h24v24H0V0z\" fill=\"none\"/>\n",
              "    <path d=\"M18.56 5.44l.94 2.06.94-2.06 2.06-.94-2.06-.94-.94-2.06-.94 2.06-2.06.94zm-11 1L8.5 8.5l.94-2.06 2.06-.94-2.06-.94L8.5 2.5l-.94 2.06-2.06.94zm10 10l.94 2.06.94-2.06 2.06-.94-2.06-.94-.94-2.06-.94 2.06-2.06.94z\"/><path d=\"M17.41 7.96l-1.37-1.37c-.4-.4-.92-.59-1.43-.59-.52 0-1.04.2-1.43.59L10.3 9.45l-7.72 7.72c-.78.78-.78 2.05 0 2.83L4 21.41c.39.39.9.59 1.41.59.51 0 1.02-.2 1.41-.59l7.78-7.78 2.81-2.81c.8-.78.8-2.07 0-2.86zM5.41 20L4 18.59l7.72-7.72 1.47 1.35L5.41 20z\"/>\n",
              "  </svg>\n",
              "      </button>\n",
              "      \n",
              "  <style>\n",
              "    .colab-df-container {\n",
              "      display:flex;\n",
              "      flex-wrap:wrap;\n",
              "      gap: 12px;\n",
              "    }\n",
              "\n",
              "    .colab-df-convert {\n",
              "      background-color: #E8F0FE;\n",
              "      border: none;\n",
              "      border-radius: 50%;\n",
              "      cursor: pointer;\n",
              "      display: none;\n",
              "      fill: #1967D2;\n",
              "      height: 32px;\n",
              "      padding: 0 0 0 0;\n",
              "      width: 32px;\n",
              "    }\n",
              "\n",
              "    .colab-df-convert:hover {\n",
              "      background-color: #E2EBFA;\n",
              "      box-shadow: 0px 1px 2px rgba(60, 64, 67, 0.3), 0px 1px 3px 1px rgba(60, 64, 67, 0.15);\n",
              "      fill: #174EA6;\n",
              "    }\n",
              "\n",
              "    [theme=dark] .colab-df-convert {\n",
              "      background-color: #3B4455;\n",
              "      fill: #D2E3FC;\n",
              "    }\n",
              "\n",
              "    [theme=dark] .colab-df-convert:hover {\n",
              "      background-color: #434B5C;\n",
              "      box-shadow: 0px 1px 3px 1px rgba(0, 0, 0, 0.15);\n",
              "      filter: drop-shadow(0px 1px 2px rgba(0, 0, 0, 0.3));\n",
              "      fill: #FFFFFF;\n",
              "    }\n",
              "  </style>\n",
              "\n",
              "      <script>\n",
              "        const buttonEl =\n",
              "          document.querySelector('#df-06410801-fe6c-48fa-8c95-986b4b71e4ce button.colab-df-convert');\n",
              "        buttonEl.style.display =\n",
              "          google.colab.kernel.accessAllowed ? 'block' : 'none';\n",
              "\n",
              "        async function convertToInteractive(key) {\n",
              "          const element = document.querySelector('#df-06410801-fe6c-48fa-8c95-986b4b71e4ce');\n",
              "          const dataTable =\n",
              "            await google.colab.kernel.invokeFunction('convertToInteractive',\n",
              "                                                     [key], {});\n",
              "          if (!dataTable) return;\n",
              "\n",
              "          const docLinkHtml = 'Like what you see? Visit the ' +\n",
              "            '<a target=\"_blank\" href=https://colab.research.google.com/notebooks/data_table.ipynb>data table notebook</a>'\n",
              "            + ' to learn more about interactive tables.';\n",
              "          element.innerHTML = '';\n",
              "          dataTable['output_type'] = 'display_data';\n",
              "          await google.colab.output.renderOutput(dataTable, element);\n",
              "          const docLink = document.createElement('div');\n",
              "          docLink.innerHTML = docLinkHtml;\n",
              "          element.appendChild(docLink);\n",
              "        }\n",
              "      </script>\n",
              "    </div>\n",
              "  </div>\n",
              "  "
            ]
          },
          "metadata": {},
          "execution_count": 88
        }
      ],
      "source": [
        "rm = ratings.pivot(index = 'movieId', columns ='userId', values = 'rating').fillna(0)\n",
        "rm.head()"
      ]
    },
    {
      "cell_type": "code",
      "source": [
        "rm.shape"
      ],
      "metadata": {
        "colab": {
          "base_uri": "https://localhost:8080/"
        },
        "id": "4JG9fv9uB_dZ",
        "outputId": "be4ba784-c15f-40b3-b2b5-8cb297090f97"
      },
      "execution_count": null,
      "outputs": [
        {
          "output_type": "execute_result",
          "data": {
            "text/plain": [
              "(10325, 668)"
            ]
          },
          "metadata": {},
          "execution_count": 89
        }
      ]
    },
    {
      "cell_type": "markdown",
      "source": [
        "#### Check the sparsity of data"
      ],
      "metadata": {
        "id": "qB8MvsqzAu7O"
      }
    },
    {
      "cell_type": "code",
      "execution_count": null,
      "metadata": {
        "id": "34e90b67",
        "outputId": "18181b2f-bc0e-44c3-b355-3b56dc755ad7",
        "colab": {
          "base_uri": "https://localhost:8080/"
        }
      },
      "outputs": [
        {
          "output_type": "execute_result",
          "data": {
            "text/plain": [
              "0.015272940801206305"
            ]
          },
          "metadata": {},
          "execution_count": 90
        }
      ],
      "source": [
        "(rm > 0).sum().sum() / (rm.shape[0] * rm.shape[1])"
      ]
    },
    {
      "cell_type": "markdown",
      "metadata": {
        "id": "71ec3620"
      },
      "source": [
        "- Only 1.5% of the values are filled\n"
      ]
    },
    {
      "cell_type": "markdown",
      "source": [
        "#### Splitting in train val"
      ],
      "metadata": {
        "id": "Cln-ICdgCod_"
      }
    },
    {
      "cell_type": "code",
      "source": [
        "from sklearn.model_selection import train_test_split"
      ],
      "metadata": {
        "id": "ewVC9laeCqMl"
      },
      "execution_count": null,
      "outputs": []
    },
    {
      "cell_type": "code",
      "source": [
        "train, val = train_test_split(rm, test_size = 0.2)"
      ],
      "metadata": {
        "id": "eAh1_reeC0XS"
      },
      "execution_count": null,
      "outputs": []
    },
    {
      "cell_type": "code",
      "source": [
        "X_train = train.values"
      ],
      "metadata": {
        "id": "I9uxOL8SJNvY"
      },
      "execution_count": null,
      "outputs": []
    },
    {
      "cell_type": "code",
      "source": [
        "X_train.shape\n"
      ],
      "metadata": {
        "colab": {
          "base_uri": "https://localhost:8080/"
        },
        "id": "60LllRpVDIXJ",
        "outputId": "6d677121-79e3-4f25-bb72-0e98e525c080"
      },
      "execution_count": null,
      "outputs": [
        {
          "output_type": "execute_result",
          "data": {
            "text/plain": [
              "(8260, 668)"
            ]
          },
          "metadata": {},
          "execution_count": 94
        }
      ]
    },
    {
      "cell_type": "code",
      "source": [
        "X_val = val.values"
      ],
      "metadata": {
        "id": "C94FJWjaJX_b"
      },
      "execution_count": null,
      "outputs": []
    },
    {
      "cell_type": "code",
      "source": [
        "X_val.shape"
      ],
      "metadata": {
        "colab": {
          "base_uri": "https://localhost:8080/"
        },
        "id": "SmNG-upkDKPI",
        "outputId": "9b0625c0-9a50-4e04-9010-f28891554354"
      },
      "execution_count": null,
      "outputs": [
        {
          "output_type": "execute_result",
          "data": {
            "text/plain": [
              "(2065, 668)"
            ]
          },
          "metadata": {},
          "execution_count": 96
        }
      ]
    },
    {
      "cell_type": "markdown",
      "source": [
        "#### Training Auto Encoders"
      ],
      "metadata": {
        "id": "uxhjMa3gAyen"
      }
    },
    {
      "cell_type": "code",
      "source": [
        "import keras\n",
        "from keras import layers"
      ],
      "metadata": {
        "id": "9zbAqiccBK3O"
      },
      "execution_count": null,
      "outputs": []
    },
    {
      "cell_type": "code",
      "source": [
        "input_movie = keras.Input(shape=(668,))\n",
        "encoded = layers.Dense(512, activation='relu')(input_movie)\n",
        "encoded = layers.Dense(256, activation='relu')(encoded)\n",
        "encoded = layers.Dense(128, activation='relu')(encoded)\n",
        "\n",
        "\n",
        "decoded = layers.Dense(256, activation='relu')(encoded)\n",
        "decoded = layers.Dense(512, activation='relu')(decoded)\n",
        "decoded = layers.Dense(668, activation='linear')(decoded)"
      ],
      "metadata": {
        "id": "PN6bakGzDkXd"
      },
      "execution_count": null,
      "outputs": []
    },
    {
      "cell_type": "code",
      "source": [
        "autoencoder = keras.Model(input_movie, decoded)\n",
        "autoencoder.compile(optimizer='adam', loss='mean_squared_error')\n"
      ],
      "metadata": {
        "id": "zMqyA94RD1YF"
      },
      "execution_count": null,
      "outputs": []
    },
    {
      "cell_type": "code",
      "source": [
        "from keras.utils.vis_utils import plot_model\n",
        "\n",
        "plot_model(autoencoder, to_file='model_plot.png', show_shapes=True, show_layer_names=True)"
      ],
      "metadata": {
        "colab": {
          "base_uri": "https://localhost:8080/",
          "height": 754
        },
        "id": "cgVcuwr4EGzZ",
        "outputId": "3b6dc455-f16d-4cbd-a575-041116ccc6ac"
      },
      "execution_count": null,
      "outputs": [
        {
          "output_type": "execute_result",
          "data": {
            "image/png": "[encoded data removed]",
            "text/plain": [
              "<IPython.core.display.Image object>"
            ]
          },
          "metadata": {},
          "execution_count": 100
        }
      ]
    },
    {
      "cell_type": "code",
      "source": [
        "autoencoder.fit(X_train, X_train,\n",
        "                epochs=100,\n",
        "                batch_size=256,\n",
        "                shuffle=True,\n",
        "                validation_data=(X_val, X_val))"
      ],
      "metadata": {
        "colab": {
          "base_uri": "https://localhost:8080/"
        },
        "id": "RaKO94o4D68H",
        "outputId": "ad4452a0-7fbb-444a-9d6d-ba68ef1122e8"
      },
      "execution_count": null,
      "outputs": [
        {
          "output_type": "stream",
          "name": "stdout",
          "text": [
            "Epoch 1/100\n",
            "33/33 [==============================] - 1s 10ms/step - loss: 0.1706 - val_loss: 0.1495\n",
            "Epoch 2/100\n",
            "33/33 [==============================] - 0s 5ms/step - loss: 0.1466 - val_loss: 0.1352\n",
            "Epoch 3/100\n",
            "33/33 [==============================] - 0s 5ms/step - loss: 0.1344 - val_loss: 0.1266\n",
            "Epoch 4/100\n",
            "33/33 [==============================] - 0s 6ms/step - loss: 0.1247 - val_loss: 0.1209\n",
            "Epoch 5/100\n",
            "33/33 [==============================] - 0s 5ms/step - loss: 0.1179 - val_loss: 0.1154\n",
            "Epoch 6/100\n",
            "33/33 [==============================] - 0s 5ms/step - loss: 0.1109 - val_loss: 0.1115\n",
            "Epoch 7/100\n",
            "33/33 [==============================] - 0s 5ms/step - loss: 0.1053 - val_loss: 0.1084\n",
            "Epoch 8/100\n",
            "33/33 [==============================] - 0s 6ms/step - loss: 0.1012 - val_loss: 0.1063\n",
            "Epoch 9/100\n",
            "33/33 [==============================] - 0s 6ms/step - loss: 0.0966 - val_loss: 0.1034\n",
            "Epoch 10/100\n",
            "33/33 [==============================] - 0s 5ms/step - loss: 0.0924 - val_loss: 0.1013\n",
            "Epoch 11/100\n",
            "33/33 [==============================] - 0s 5ms/step - loss: 0.0890 - val_loss: 0.1006\n",
            "Epoch 12/100\n",
            "33/33 [==============================] - 0s 5ms/step - loss: 0.0856 - val_loss: 0.0991\n",
            "Epoch 13/100\n",
            "33/33 [==============================] - 0s 5ms/step - loss: 0.0836 - val_loss: 0.0980\n",
            "Epoch 14/100\n",
            "33/33 [==============================] - 0s 5ms/step - loss: 0.0808 - val_loss: 0.0972\n",
            "Epoch 15/100\n",
            "33/33 [==============================] - 0s 5ms/step - loss: 0.0783 - val_loss: 0.0968\n",
            "Epoch 16/100\n",
            "33/33 [==============================] - 0s 5ms/step - loss: 0.0756 - val_loss: 0.0956\n",
            "Epoch 17/100\n",
            "33/33 [==============================] - 0s 5ms/step - loss: 0.0725 - val_loss: 0.0957\n",
            "Epoch 18/100\n",
            "33/33 [==============================] - 0s 5ms/step - loss: 0.0723 - val_loss: 0.0950\n",
            "Epoch 19/100\n",
            "33/33 [==============================] - 0s 5ms/step - loss: 0.0701 - val_loss: 0.0945\n",
            "Epoch 20/100\n",
            "33/33 [==============================] - 0s 5ms/step - loss: 0.0676 - val_loss: 0.0935\n",
            "Epoch 21/100\n",
            "33/33 [==============================] - 0s 5ms/step - loss: 0.0659 - val_loss: 0.0934\n",
            "Epoch 22/100\n",
            "33/33 [==============================] - 0s 5ms/step - loss: 0.0642 - val_loss: 0.0933\n",
            "Epoch 23/100\n",
            "33/33 [==============================] - 0s 6ms/step - loss: 0.0633 - val_loss: 0.0930\n",
            "Epoch 24/100\n",
            "33/33 [==============================] - 0s 5ms/step - loss: 0.0619 - val_loss: 0.0923\n",
            "Epoch 25/100\n",
            "33/33 [==============================] - 0s 5ms/step - loss: 0.0601 - val_loss: 0.0920\n",
            "Epoch 26/100\n",
            "33/33 [==============================] - 0s 5ms/step - loss: 0.0587 - val_loss: 0.0921\n",
            "Epoch 27/100\n",
            "33/33 [==============================] - 0s 5ms/step - loss: 0.0576 - val_loss: 0.0920\n",
            "Epoch 28/100\n",
            "33/33 [==============================] - 0s 5ms/step - loss: 0.0567 - val_loss: 0.0918\n",
            "Epoch 29/100\n",
            "33/33 [==============================] - 0s 5ms/step - loss: 0.0556 - val_loss: 0.0920\n",
            "Epoch 30/100\n",
            "33/33 [==============================] - 0s 5ms/step - loss: 0.0548 - val_loss: 0.0917\n",
            "Epoch 31/100\n",
            "33/33 [==============================] - 0s 5ms/step - loss: 0.0539 - val_loss: 0.0913\n",
            "Epoch 32/100\n",
            "33/33 [==============================] - 0s 6ms/step - loss: 0.0532 - val_loss: 0.0915\n",
            "Epoch 33/100\n",
            "33/33 [==============================] - 0s 5ms/step - loss: 0.0526 - val_loss: 0.0924\n",
            "Epoch 34/100\n",
            "33/33 [==============================] - 0s 6ms/step - loss: 0.0528 - val_loss: 0.0916\n",
            "Epoch 35/100\n",
            "33/33 [==============================] - 0s 5ms/step - loss: 0.0523 - val_loss: 0.0919\n",
            "Epoch 36/100\n",
            "33/33 [==============================] - 0s 5ms/step - loss: 0.0518 - val_loss: 0.0915\n",
            "Epoch 37/100\n",
            "33/33 [==============================] - 0s 5ms/step - loss: 0.0500 - val_loss: 0.0918\n",
            "Epoch 38/100\n",
            "33/33 [==============================] - 0s 5ms/step - loss: 0.0497 - val_loss: 0.0914\n",
            "Epoch 39/100\n",
            "33/33 [==============================] - 0s 5ms/step - loss: 0.0488 - val_loss: 0.0914\n",
            "Epoch 40/100\n",
            "33/33 [==============================] - 0s 5ms/step - loss: 0.0476 - val_loss: 0.0906\n",
            "Epoch 41/100\n",
            "33/33 [==============================] - 0s 6ms/step - loss: 0.0470 - val_loss: 0.0912\n",
            "Epoch 42/100\n",
            "33/33 [==============================] - 0s 6ms/step - loss: 0.0461 - val_loss: 0.0907\n",
            "Epoch 43/100\n",
            "33/33 [==============================] - 0s 6ms/step - loss: 0.0455 - val_loss: 0.0911\n",
            "Epoch 44/100\n",
            "33/33 [==============================] - 0s 5ms/step - loss: 0.0461 - val_loss: 0.0913\n",
            "Epoch 45/100\n",
            "33/33 [==============================] - 0s 5ms/step - loss: 0.0448 - val_loss: 0.0909\n",
            "Epoch 46/100\n",
            "33/33 [==============================] - 0s 5ms/step - loss: 0.0443 - val_loss: 0.0909\n",
            "Epoch 47/100\n",
            "33/33 [==============================] - 0s 5ms/step - loss: 0.0434 - val_loss: 0.0910\n",
            "Epoch 48/100\n",
            "33/33 [==============================] - 0s 5ms/step - loss: 0.0427 - val_loss: 0.0913\n",
            "Epoch 49/100\n",
            "33/33 [==============================] - 0s 5ms/step - loss: 0.0426 - val_loss: 0.0912\n",
            "Epoch 50/100\n",
            "33/33 [==============================] - 0s 5ms/step - loss: 0.0425 - val_loss: 0.0912\n",
            "Epoch 51/100\n",
            "33/33 [==============================] - 0s 6ms/step - loss: 0.0423 - val_loss: 0.0919\n",
            "Epoch 52/100\n",
            "33/33 [==============================] - 0s 5ms/step - loss: 0.0458 - val_loss: 0.0950\n",
            "Epoch 53/100\n",
            "33/33 [==============================] - 0s 6ms/step - loss: 0.0481 - val_loss: 0.0929\n",
            "Epoch 54/100\n",
            "33/33 [==============================] - 0s 5ms/step - loss: 0.0451 - val_loss: 0.0927\n",
            "Epoch 55/100\n",
            "33/33 [==============================] - 0s 5ms/step - loss: 0.0430 - val_loss: 0.0914\n",
            "Epoch 56/100\n",
            "33/33 [==============================] - 0s 5ms/step - loss: 0.0413 - val_loss: 0.0914\n",
            "Epoch 57/100\n",
            "33/33 [==============================] - 0s 5ms/step - loss: 0.0406 - val_loss: 0.0917\n",
            "Epoch 58/100\n",
            "33/33 [==============================] - 0s 5ms/step - loss: 0.0405 - val_loss: 0.0914\n",
            "Epoch 59/100\n",
            "33/33 [==============================] - 0s 6ms/step - loss: 0.0395 - val_loss: 0.0914\n",
            "Epoch 60/100\n",
            "33/33 [==============================] - 0s 5ms/step - loss: 0.0393 - val_loss: 0.0912\n",
            "Epoch 61/100\n",
            "33/33 [==============================] - 0s 5ms/step - loss: 0.0390 - val_loss: 0.0917\n",
            "Epoch 62/100\n",
            "33/33 [==============================] - 0s 5ms/step - loss: 0.0387 - val_loss: 0.0915\n",
            "Epoch 63/100\n",
            "33/33 [==============================] - 0s 5ms/step - loss: 0.0383 - val_loss: 0.0915\n",
            "Epoch 64/100\n",
            "33/33 [==============================] - 0s 5ms/step - loss: 0.0378 - val_loss: 0.0918\n",
            "Epoch 65/100\n",
            "33/33 [==============================] - 0s 5ms/step - loss: 0.0383 - val_loss: 0.0918\n",
            "Epoch 66/100\n",
            "33/33 [==============================] - 0s 5ms/step - loss: 0.0375 - val_loss: 0.0916\n",
            "Epoch 67/100\n",
            "33/33 [==============================] - 0s 5ms/step - loss: 0.0371 - val_loss: 0.0918\n",
            "Epoch 68/100\n",
            "33/33 [==============================] - 0s 5ms/step - loss: 0.0369 - val_loss: 0.0920\n",
            "Epoch 69/100\n",
            "33/33 [==============================] - 0s 5ms/step - loss: 0.0367 - val_loss: 0.0918\n",
            "Epoch 70/100\n",
            "33/33 [==============================] - 0s 5ms/step - loss: 0.0363 - val_loss: 0.0916\n",
            "Epoch 71/100\n",
            "33/33 [==============================] - 0s 5ms/step - loss: 0.0360 - val_loss: 0.0918\n",
            "Epoch 72/100\n",
            "33/33 [==============================] - 0s 6ms/step - loss: 0.0358 - val_loss: 0.0918\n",
            "Epoch 73/100\n",
            "33/33 [==============================] - 0s 5ms/step - loss: 0.0356 - val_loss: 0.0919\n",
            "Epoch 74/100\n",
            "33/33 [==============================] - 0s 5ms/step - loss: 0.0353 - val_loss: 0.0919\n",
            "Epoch 75/100\n",
            "33/33 [==============================] - 0s 5ms/step - loss: 0.0353 - val_loss: 0.0922\n",
            "Epoch 76/100\n",
            "33/33 [==============================] - 0s 5ms/step - loss: 0.0355 - val_loss: 0.0924\n",
            "Epoch 77/100\n",
            "33/33 [==============================] - 0s 5ms/step - loss: 0.0355 - val_loss: 0.0926\n",
            "Epoch 78/100\n",
            "33/33 [==============================] - 0s 5ms/step - loss: 0.0358 - val_loss: 0.0927\n",
            "Epoch 79/100\n",
            "33/33 [==============================] - 0s 5ms/step - loss: 0.0358 - val_loss: 0.0927\n",
            "Epoch 80/100\n",
            "33/33 [==============================] - 0s 6ms/step - loss: 0.0355 - val_loss: 0.0926\n",
            "Epoch 81/100\n",
            "33/33 [==============================] - 0s 5ms/step - loss: 0.0350 - val_loss: 0.0929\n",
            "Epoch 82/100\n",
            "33/33 [==============================] - 0s 5ms/step - loss: 0.0343 - val_loss: 0.0926\n",
            "Epoch 83/100\n",
            "33/33 [==============================] - 0s 5ms/step - loss: 0.0356 - val_loss: 0.0934\n",
            "Epoch 84/100\n",
            "33/33 [==============================] - 0s 5ms/step - loss: 0.0365 - val_loss: 0.0928\n",
            "Epoch 85/100\n",
            "33/33 [==============================] - 0s 5ms/step - loss: 0.0365 - val_loss: 0.0930\n",
            "Epoch 86/100\n",
            "33/33 [==============================] - 0s 7ms/step - loss: 0.0355 - val_loss: 0.0931\n",
            "Epoch 87/100\n",
            "33/33 [==============================] - 0s 6ms/step - loss: 0.0348 - val_loss: 0.0929\n",
            "Epoch 88/100\n",
            "33/33 [==============================] - 0s 5ms/step - loss: 0.0341 - val_loss: 0.0928\n",
            "Epoch 89/100\n",
            "33/33 [==============================] - 0s 5ms/step - loss: 0.0338 - val_loss: 0.0924\n",
            "Epoch 90/100\n",
            "33/33 [==============================] - 0s 5ms/step - loss: 0.0330 - val_loss: 0.0925\n",
            "Epoch 91/100\n",
            "33/33 [==============================] - 0s 5ms/step - loss: 0.0340 - val_loss: 0.0932\n",
            "Epoch 92/100\n",
            "33/33 [==============================] - 0s 5ms/step - loss: 0.0344 - val_loss: 0.0934\n",
            "Epoch 93/100\n",
            "33/33 [==============================] - 0s 5ms/step - loss: 0.0340 - val_loss: 0.0932\n",
            "Epoch 94/100\n",
            "33/33 [==============================] - 0s 5ms/step - loss: 0.0334 - val_loss: 0.0934\n",
            "Epoch 95/100\n",
            "33/33 [==============================] - 0s 5ms/step - loss: 0.0340 - val_loss: 0.0936\n",
            "Epoch 96/100\n",
            "33/33 [==============================] - 0s 5ms/step - loss: 0.0330 - val_loss: 0.0932\n",
            "Epoch 97/100\n",
            "33/33 [==============================] - 0s 5ms/step - loss: 0.0336 - val_loss: 0.0934\n",
            "Epoch 98/100\n",
            "33/33 [==============================] - 0s 5ms/step - loss: 0.0326 - val_loss: 0.0929\n",
            "Epoch 99/100\n",
            "33/33 [==============================] - 0s 5ms/step - loss: 0.0319 - val_loss: 0.0930\n",
            "Epoch 100/100\n",
            "33/33 [==============================] - 0s 5ms/step - loss: 0.0322 - val_loss: 0.0931\n"
          ]
        },
        {
          "output_type": "execute_result",
          "data": {
            "text/plain": [
              "<keras.callbacks.History at 0x7f8054519eb0>"
            ]
          },
          "metadata": {},
          "execution_count": 101
        }
      ]
    },
    {
      "cell_type": "markdown",
      "source": [
        "#### Extracting embeddings"
      ],
      "metadata": {
        "id": "qm5Eer6IG13d"
      }
    },
    {
      "cell_type": "markdown",
      "source": [
        "Let's check which layer returns the latent space embeddings"
      ],
      "metadata": {
        "id": "RiCvakvThTzz"
      }
    },
    {
      "cell_type": "code",
      "source": [
        "autoencoder.summary()"
      ],
      "metadata": {
        "colab": {
          "base_uri": "https://localhost:8080/"
        },
        "id": "jwl21oGPG7D_",
        "outputId": "8cf45923-7986-4908-9a4f-859144715bb8"
      },
      "execution_count": null,
      "outputs": [
        {
          "output_type": "stream",
          "name": "stdout",
          "text": [
            "Model: \"model_5\"\n",
            "_________________________________________________________________\n",
            " Layer (type)                Output Shape              Param #   \n",
            "=================================================================\n",
            " input_5 (InputLayer)        [(None, 668)]             0         \n",
            "                                                                 \n",
            " dense_24 (Dense)            (None, 512)               342528    \n",
            "                                                                 \n",
            " dense_25 (Dense)            (None, 256)               131328    \n",
            "                                                                 \n",
            " dense_26 (Dense)            (None, 128)               32896     \n",
            "                                                                 \n",
            " dense_27 (Dense)            (None, 256)               33024     \n",
            "                                                                 \n",
            " dense_28 (Dense)            (None, 512)               131584    \n",
            "                                                                 \n",
            " dense_29 (Dense)            (None, 668)               342684    \n",
            "                                                                 \n",
            "=================================================================\n",
            "Total params: 1,014,044\n",
            "Trainable params: 1,014,044\n",
            "Non-trainable params: 0\n",
            "_________________________________________________________________\n"
          ]
        }
      ]
    },
    {
      "cell_type": "code",
      "source": [
        "autoencoder.layers[3].output"
      ],
      "metadata": {
        "colab": {
          "base_uri": "https://localhost:8080/"
        },
        "id": "OtpLCKKgG-dy",
        "outputId": "551eff06-20c1-4e8d-c856-8854cab05835"
      },
      "execution_count": null,
      "outputs": [
        {
          "output_type": "execute_result",
          "data": {
            "text/plain": [
              "<KerasTensor: shape=(None, 128) dtype=float32 (created by layer 'dense_26')>"
            ]
          },
          "metadata": {},
          "execution_count": 104
        }
      ]
    },
    {
      "cell_type": "markdown",
      "source": [
        "Layer number 4 returns the latent space emebddings.\n",
        "\n",
        "Let's create a model with\n",
        "- input as model input and\n",
        "- output as layer 4 output"
      ],
      "metadata": {
        "id": "nAIoOfkrhX0E"
      }
    },
    {
      "cell_type": "code",
      "source": [
        "intermediate_model = keras.Model(autoencoder.input, autoencoder.layers[3].output)\n"
      ],
      "metadata": {
        "id": "KEe8ZXEvFL-u"
      },
      "execution_count": null,
      "outputs": []
    },
    {
      "cell_type": "markdown",
      "source": [
        "#### Predicting embeddings for all movies"
      ],
      "metadata": {
        "id": "_fnDAe5qhiBx"
      }
    },
    {
      "cell_type": "code",
      "source": [
        "embeddings = intermediate_model.predict(rm.values)"
      ],
      "metadata": {
        "colab": {
          "base_uri": "https://localhost:8080/"
        },
        "id": "LFdJjM6xHJaC",
        "outputId": "867d2541-2718-4ef4-9241-005fd80901f3"
      },
      "execution_count": null,
      "outputs": [
        {
          "output_type": "stream",
          "name": "stdout",
          "text": [
            "323/323 [==============================] - 1s 3ms/step\n"
          ]
        }
      ]
    },
    {
      "cell_type": "code",
      "source": [
        "embeddings"
      ],
      "metadata": {
        "id": "5j-cNRzvSGvO",
        "colab": {
          "base_uri": "https://localhost:8080/"
        },
        "outputId": "d003cdb9-a028-4d73-9969-906419effe6b"
      },
      "execution_count": null,
      "outputs": [
        {
          "output_type": "execute_result",
          "data": {
            "text/plain": [
              "array([[0.0000000e+00, 0.0000000e+00, 0.0000000e+00, ..., 1.3651494e+01,\n",
              "        3.4803386e+00, 0.0000000e+00],\n",
              "       [0.0000000e+00, 1.1449605e-02, 0.0000000e+00, ..., 1.1319354e+00,\n",
              "        1.9510438e+00, 0.0000000e+00],\n",
              "       [0.0000000e+00, 0.0000000e+00, 0.0000000e+00, ..., 7.6276131e+00,\n",
              "        4.5189867e+00, 0.0000000e+00],\n",
              "       ...,\n",
              "       [0.0000000e+00, 9.5751397e-02, 0.0000000e+00, ..., 1.9680148e-01,\n",
              "        4.0758547e-01, 0.0000000e+00],\n",
              "       [0.0000000e+00, 1.6079006e+00, 0.0000000e+00, ..., 4.3769965e-01,\n",
              "        3.3153665e-01, 0.0000000e+00],\n",
              "       [0.0000000e+00, 8.8318728e-02, 0.0000000e+00, ..., 2.2562157e-01,\n",
              "        5.4051644e-01, 0.0000000e+00]], dtype=float32)"
            ]
          },
          "metadata": {},
          "execution_count": 127
        }
      ]
    },
    {
      "cell_type": "code",
      "source": [
        "embeddings.shape"
      ],
      "metadata": {
        "colab": {
          "base_uri": "https://localhost:8080/"
        },
        "id": "PPyc4UBYf7Ge",
        "outputId": "b9740af1-60f6-4fa1-df59-704e643aeef8"
      },
      "execution_count": null,
      "outputs": [
        {
          "output_type": "execute_result",
          "data": {
            "text/plain": [
              "(10325, 128)"
            ]
          },
          "metadata": {},
          "execution_count": 128
        }
      ]
    },
    {
      "cell_type": "code",
      "source": [
        "embeddings[10]"
      ],
      "metadata": {
        "colab": {
          "base_uri": "https://localhost:8080/"
        },
        "id": "rQnRzPURf9pR",
        "outputId": "cc358469-8888-4544-b698-3501fc9ca1ef"
      },
      "execution_count": null,
      "outputs": [
        {
          "output_type": "execute_result",
          "data": {
            "text/plain": [
              "array([0.0000000e+00, 0.0000000e+00, 0.0000000e+00, 1.9658452e+00,\n",
              "       8.0590162e+00, 0.0000000e+00, 3.7221227e+00, 0.0000000e+00,\n",
              "       1.0226821e+01, 8.1159992e+00, 0.0000000e+00, 1.8327374e+00,\n",
              "       0.0000000e+00, 8.2238665e+00, 0.0000000e+00, 0.0000000e+00,\n",
              "       0.0000000e+00, 0.0000000e+00, 5.6204233e+00, 3.0633299e+00,\n",
              "       0.0000000e+00, 7.0646725e+00, 0.0000000e+00, 2.7049942e+00,\n",
              "       0.0000000e+00, 5.9217091e+00, 4.7638183e+00, 0.0000000e+00,\n",
              "       6.8396516e+00, 4.1846232e+00, 3.0754751e-01, 0.0000000e+00,\n",
              "       3.5070825e-01, 2.7261753e+00, 4.8433380e+00, 4.4773763e-01,\n",
              "       0.0000000e+00, 0.0000000e+00, 1.5257427e+00, 0.0000000e+00,\n",
              "       0.0000000e+00, 8.0603523e+00, 0.0000000e+00, 2.1496911e+00,\n",
              "       3.4151089e+00, 2.9382644e+00, 1.4833727e+01, 0.0000000e+00,\n",
              "       0.0000000e+00, 7.4706016e+00, 0.0000000e+00, 0.0000000e+00,\n",
              "       0.0000000e+00, 0.0000000e+00, 5.9207544e+00, 2.4117902e-03,\n",
              "       6.5173354e+00, 1.0831287e+01, 0.0000000e+00, 0.0000000e+00,\n",
              "       9.4732637e+00, 6.5200243e+00, 0.0000000e+00, 5.6516523e+00,\n",
              "       0.0000000e+00, 1.1550360e+01, 0.0000000e+00, 1.0015137e+00,\n",
              "       0.0000000e+00, 1.5498837e+00, 0.0000000e+00, 9.9607801e+00,\n",
              "       0.0000000e+00, 0.0000000e+00, 0.0000000e+00, 1.5138635e-01,\n",
              "       0.0000000e+00, 0.0000000e+00, 0.0000000e+00, 8.0790043e-01,\n",
              "       0.0000000e+00, 5.5743232e+00, 0.0000000e+00, 2.0077191e-01,\n",
              "       2.4721024e+00, 1.7662364e-01, 0.0000000e+00, 0.0000000e+00,\n",
              "       0.0000000e+00, 0.0000000e+00, 0.0000000e+00, 0.0000000e+00,\n",
              "       5.2709656e+00, 0.0000000e+00, 1.3146458e+01, 7.9421329e+00,\n",
              "       7.3212967e+00, 1.1268778e+00, 0.0000000e+00, 3.9041052e+00,\n",
              "       0.0000000e+00, 0.0000000e+00, 0.0000000e+00, 0.0000000e+00,\n",
              "       5.2551799e+00, 2.4510663e+00, 2.3059387e+00, 2.4024496e+00,\n",
              "       0.0000000e+00, 0.0000000e+00, 1.9249966e+00, 0.0000000e+00,\n",
              "       2.9486036e+00, 0.0000000e+00, 4.1414065e+00, 1.2645843e+01,\n",
              "       0.0000000e+00, 0.0000000e+00, 1.0438521e+01, 0.0000000e+00,\n",
              "       0.0000000e+00, 0.0000000e+00, 3.0717371e+00, 1.6371149e+00,\n",
              "       3.1045024e+00, 3.3553655e+00, 2.7030585e+00, 0.0000000e+00],\n",
              "      dtype=float32)"
            ]
          },
          "metadata": {},
          "execution_count": 130
        }
      ]
    },
    {
      "cell_type": "markdown",
      "source": [
        "#### Finding similar movies - Cosine similarity"
      ],
      "metadata": {
        "id": "OazwPG-kHapc"
      }
    },
    {
      "cell_type": "code",
      "source": [
        "from sklearn.metrics.pairwise import cosine_similarity\n"
      ],
      "metadata": {
        "id": "p138DjQ7Ht1z"
      },
      "execution_count": null,
      "outputs": []
    },
    {
      "cell_type": "code",
      "source": [
        "similarity_matrix = cosine_similarity(embeddings)"
      ],
      "metadata": {
        "id": "nlZDGVP8II1e"
      },
      "execution_count": null,
      "outputs": []
    },
    {
      "cell_type": "code",
      "source": [
        "similarity_matrix.shape"
      ],
      "metadata": {
        "colab": {
          "base_uri": "https://localhost:8080/"
        },
        "id": "92n1NY3_Ijax",
        "outputId": "c8ef874a-bb53-4895-e336-e5b93d7d7884"
      },
      "execution_count": null,
      "outputs": [
        {
          "output_type": "execute_result",
          "data": {
            "text/plain": [
              "(10325, 10325)"
            ]
          },
          "metadata": {},
          "execution_count": 133
        }
      ]
    },
    {
      "cell_type": "code",
      "source": [
        "similarity_matrix"
      ],
      "metadata": {
        "colab": {
          "base_uri": "https://localhost:8080/"
        },
        "id": "tCObPafyInuq",
        "outputId": "a9a3db00-63cf-4aba-bf37-37b3a7c881f9"
      },
      "execution_count": null,
      "outputs": [
        {
          "output_type": "execute_result",
          "data": {
            "text/plain": [
              "array([[1.0000001 , 0.6585631 , 0.67322814, ..., 0.59645236, 0.5442955 ,\n",
              "        0.5833119 ],\n",
              "       [0.6585631 , 0.9999999 , 0.6800547 , ..., 0.72579706, 0.6547908 ,\n",
              "        0.72038335],\n",
              "       [0.67322814, 0.6800547 , 0.99999964, ..., 0.68437904, 0.64143527,\n",
              "        0.6798124 ],\n",
              "       ...,\n",
              "       [0.59645236, 0.72579706, 0.68437904, ..., 0.9999999 , 0.77266556,\n",
              "        0.99907935],\n",
              "       [0.5442955 , 0.6547908 , 0.64143527, ..., 0.77266556, 0.99999994,\n",
              "        0.7622129 ],\n",
              "       [0.5833119 , 0.72038335, 0.6798124 , ..., 0.99907935, 0.7622129 ,\n",
              "        1.0000001 ]], dtype=float32)"
            ]
          },
          "metadata": {},
          "execution_count": 134
        }
      ]
    },
    {
      "cell_type": "markdown",
      "source": [
        "#### Creating df for the similarity matrix"
      ],
      "metadata": {
        "id": "X80WVc3Ei3Qk"
      }
    },
    {
      "cell_type": "code",
      "source": [
        "item_sim_matrix = pd.DataFrame(similarity_matrix, index=rm.index, columns=rm.index)\n",
        "item_sim_matrix.head() #Item-similarity Matrix"
      ],
      "metadata": {
        "colab": {
          "base_uri": "https://localhost:8080/",
          "height": 331
        },
        "id": "TOhZLjgSIpgt",
        "outputId": "c29df2ba-edce-4292-a396-664bd3519811"
      },
      "execution_count": null,
      "outputs": [
        {
          "output_type": "execute_result",
          "data": {
            "text/plain": [
              "movieId    1         2         3         4         5         6         7       \\\n",
              "movieId                                                                         \n",
              "1        1.000000  0.658563  0.673228  0.540021  0.648697  0.654453  0.684952   \n",
              "2        0.658563  1.000000  0.680055  0.664267  0.671681  0.682655  0.687399   \n",
              "3        0.673228  0.680055  1.000000  0.708798  0.811759  0.733264  0.744269   \n",
              "4        0.540021  0.664267  0.708798  1.000000  0.618423  0.682824  0.693533   \n",
              "5        0.648697  0.671681  0.811759  0.618423  1.000000  0.671731  0.777911   \n",
              "\n",
              "movieId    8         9         10      ...    144482    144656    144976  \\\n",
              "movieId                                ...                                 \n",
              "1        0.632444  0.610780  0.654408  ...  0.571254  0.589064  0.581250   \n",
              "2        0.736932  0.620380  0.721273  ...  0.682567  0.722754  0.673074   \n",
              "3        0.749439  0.778765  0.572502  ...  0.666188  0.681853  0.664915   \n",
              "4        0.851051  0.724973  0.665865  ...  0.695002  0.742990  0.726576   \n",
              "5        0.699758  0.702049  0.590483  ...  0.622101  0.651532  0.596869   \n",
              "\n",
              "movieId    146344    146656    146684    146878    148238    148626    149532  \n",
              "movieId                                                                        \n",
              "1        0.618699  0.550565  0.553673  0.570174  0.596452  0.544295  0.583312  \n",
              "2        0.735291  0.709819  0.600205  0.609749  0.725797  0.654791  0.720383  \n",
              "3        0.694079  0.674888  0.702747  0.707777  0.684379  0.641435  0.679812  \n",
              "4        0.756891  0.722054  0.685661  0.689927  0.746041  0.719017  0.740609  \n",
              "5        0.659810  0.634000  0.613933  0.619347  0.653561  0.596539  0.649576  \n",
              "\n",
              "[5 rows x 10325 columns]"
            ],
            "text/html": [
              "\n",
              "  <div id=\"df-ceb30f2a-b2c8-4cc1-8de5-2c7828c6dfbb\">\n",
              "    <div class=\"colab-df-container\">\n",
              "      <div>\n",
              "<style scoped>\n",
              "    .dataframe tbody tr th:only-of-type {\n",
              "        vertical-align: middle;\n",
              "    }\n",
              "\n",
              "    .dataframe tbody tr th {\n",
              "        vertical-align: top;\n",
              "    }\n",
              "\n",
              "    .dataframe thead th {\n",
              "        text-align: right;\n",
              "    }\n",
              "</style>\n",
              "<table border=\"1\" class=\"dataframe\">\n",
              "  <thead>\n",
              "    <tr style=\"text-align: right;\">\n",
              "      <th>movieId</th>\n",
              "      <th>1</th>\n",
              "      <th>2</th>\n",
              "      <th>3</th>\n",
              "      <th>4</th>\n",
              "      <th>5</th>\n",
              "      <th>6</th>\n",
              "      <th>7</th>\n",
              "      <th>8</th>\n",
              "      <th>9</th>\n",
              "      <th>10</th>\n",
              "      <th>...</th>\n",
              "      <th>144482</th>\n",
              "      <th>144656</th>\n",
              "      <th>144976</th>\n",
              "      <th>146344</th>\n",
              "      <th>146656</th>\n",
              "      <th>146684</th>\n",
              "      <th>146878</th>\n",
              "      <th>148238</th>\n",
              "      <th>148626</th>\n",
              "      <th>149532</th>\n",
              "    </tr>\n",
              "    <tr>\n",
              "      <th>movieId</th>\n",
              "      <th></th>\n",
              "      <th></th>\n",
              "      <th></th>\n",
              "      <th></th>\n",
              "      <th></th>\n",
              "      <th></th>\n",
              "      <th></th>\n",
              "      <th></th>\n",
              "      <th></th>\n",
              "      <th></th>\n",
              "      <th></th>\n",
              "      <th></th>\n",
              "      <th></th>\n",
              "      <th></th>\n",
              "      <th></th>\n",
              "      <th></th>\n",
              "      <th></th>\n",
              "      <th></th>\n",
              "      <th></th>\n",
              "      <th></th>\n",
              "      <th></th>\n",
              "    </tr>\n",
              "  </thead>\n",
              "  <tbody>\n",
              "    <tr>\n",
              "      <th>1</th>\n",
              "      <td>1.000000</td>\n",
              "      <td>0.658563</td>\n",
              "      <td>0.673228</td>\n",
              "      <td>0.540021</td>\n",
              "      <td>0.648697</td>\n",
              "      <td>0.654453</td>\n",
              "      <td>0.684952</td>\n",
              "      <td>0.632444</td>\n",
              "      <td>0.610780</td>\n",
              "      <td>0.654408</td>\n",
              "      <td>...</td>\n",
              "      <td>0.571254</td>\n",
              "      <td>0.589064</td>\n",
              "      <td>0.581250</td>\n",
              "      <td>0.618699</td>\n",
              "      <td>0.550565</td>\n",
              "      <td>0.553673</td>\n",
              "      <td>0.570174</td>\n",
              "      <td>0.596452</td>\n",
              "      <td>0.544295</td>\n",
              "      <td>0.583312</td>\n",
              "    </tr>\n",
              "    <tr>\n",
              "      <th>2</th>\n",
              "      <td>0.658563</td>\n",
              "      <td>1.000000</td>\n",
              "      <td>0.680055</td>\n",
              "      <td>0.664267</td>\n",
              "      <td>0.671681</td>\n",
              "      <td>0.682655</td>\n",
              "      <td>0.687399</td>\n",
              "      <td>0.736932</td>\n",
              "      <td>0.620380</td>\n",
              "      <td>0.721273</td>\n",
              "      <td>...</td>\n",
              "      <td>0.682567</td>\n",
              "      <td>0.722754</td>\n",
              "      <td>0.673074</td>\n",
              "      <td>0.735291</td>\n",
              "      <td>0.709819</td>\n",
              "      <td>0.600205</td>\n",
              "      <td>0.609749</td>\n",
              "      <td>0.725797</td>\n",
              "      <td>0.654791</td>\n",
              "      <td>0.720383</td>\n",
              "    </tr>\n",
              "    <tr>\n",
              "      <th>3</th>\n",
              "      <td>0.673228</td>\n",
              "      <td>0.680055</td>\n",
              "      <td>1.000000</td>\n",
              "      <td>0.708798</td>\n",
              "      <td>0.811759</td>\n",
              "      <td>0.733264</td>\n",
              "      <td>0.744269</td>\n",
              "      <td>0.749439</td>\n",
              "      <td>0.778765</td>\n",
              "      <td>0.572502</td>\n",
              "      <td>...</td>\n",
              "      <td>0.666188</td>\n",
              "      <td>0.681853</td>\n",
              "      <td>0.664915</td>\n",
              "      <td>0.694079</td>\n",
              "      <td>0.674888</td>\n",
              "      <td>0.702747</td>\n",
              "      <td>0.707777</td>\n",
              "      <td>0.684379</td>\n",
              "      <td>0.641435</td>\n",
              "      <td>0.679812</td>\n",
              "    </tr>\n",
              "    <tr>\n",
              "      <th>4</th>\n",
              "      <td>0.540021</td>\n",
              "      <td>0.664267</td>\n",
              "      <td>0.708798</td>\n",
              "      <td>1.000000</td>\n",
              "      <td>0.618423</td>\n",
              "      <td>0.682824</td>\n",
              "      <td>0.693533</td>\n",
              "      <td>0.851051</td>\n",
              "      <td>0.724973</td>\n",
              "      <td>0.665865</td>\n",
              "      <td>...</td>\n",
              "      <td>0.695002</td>\n",
              "      <td>0.742990</td>\n",
              "      <td>0.726576</td>\n",
              "      <td>0.756891</td>\n",
              "      <td>0.722054</td>\n",
              "      <td>0.685661</td>\n",
              "      <td>0.689927</td>\n",
              "      <td>0.746041</td>\n",
              "      <td>0.719017</td>\n",
              "      <td>0.740609</td>\n",
              "    </tr>\n",
              "    <tr>\n",
              "      <th>5</th>\n",
              "      <td>0.648697</td>\n",
              "      <td>0.671681</td>\n",
              "      <td>0.811759</td>\n",
              "      <td>0.618423</td>\n",
              "      <td>1.000000</td>\n",
              "      <td>0.671731</td>\n",
              "      <td>0.777911</td>\n",
              "      <td>0.699758</td>\n",
              "      <td>0.702049</td>\n",
              "      <td>0.590483</td>\n",
              "      <td>...</td>\n",
              "      <td>0.622101</td>\n",
              "      <td>0.651532</td>\n",
              "      <td>0.596869</td>\n",
              "      <td>0.659810</td>\n",
              "      <td>0.634000</td>\n",
              "      <td>0.613933</td>\n",
              "      <td>0.619347</td>\n",
              "      <td>0.653561</td>\n",
              "      <td>0.596539</td>\n",
              "      <td>0.649576</td>\n",
              "    </tr>\n",
              "  </tbody>\n",
              "</table>\n",
              "<p>5 rows × 10325 columns</p>\n",
              "</div>\n",
              "      <button class=\"colab-df-convert\" onclick=\"convertToInteractive('df-ceb30f2a-b2c8-4cc1-8de5-2c7828c6dfbb')\"\n",
              "              title=\"Convert this dataframe to an interactive table.\"\n",
              "              style=\"display:none;\">\n",
              "        \n",
              "  <svg xmlns=\"http://www.w3.org/2000/svg\" height=\"24px\"viewBox=\"0 0 24 24\"\n",
              "       width=\"24px\">\n",
              "    <path d=\"M0 0h24v24H0V0z\" fill=\"none\"/>\n",
              "    <path d=\"M18.56 5.44l.94 2.06.94-2.06 2.06-.94-2.06-.94-.94-2.06-.94 2.06-2.06.94zm-11 1L8.5 8.5l.94-2.06 2.06-.94-2.06-.94L8.5 2.5l-.94 2.06-2.06.94zm10 10l.94 2.06.94-2.06 2.06-.94-2.06-.94-.94-2.06-.94 2.06-2.06.94z\"/><path d=\"M17.41 7.96l-1.37-1.37c-.4-.4-.92-.59-1.43-.59-.52 0-1.04.2-1.43.59L10.3 9.45l-7.72 7.72c-.78.78-.78 2.05 0 2.83L4 21.41c.39.39.9.59 1.41.59.51 0 1.02-.2 1.41-.59l7.78-7.78 2.81-2.81c.8-.78.8-2.07 0-2.86zM5.41 20L4 18.59l7.72-7.72 1.47 1.35L5.41 20z\"/>\n",
              "  </svg>\n",
              "      </button>\n",
              "      \n",
              "  <style>\n",
              "    .colab-df-container {\n",
              "      display:flex;\n",
              "      flex-wrap:wrap;\n",
              "      gap: 12px;\n",
              "    }\n",
              "\n",
              "    .colab-df-convert {\n",
              "      background-color: #E8F0FE;\n",
              "      border: none;\n",
              "      border-radius: 50%;\n",
              "      cursor: pointer;\n",
              "      display: none;\n",
              "      fill: #1967D2;\n",
              "      height: 32px;\n",
              "      padding: 0 0 0 0;\n",
              "      width: 32px;\n",
              "    }\n",
              "\n",
              "    .colab-df-convert:hover {\n",
              "      background-color: #E2EBFA;\n",
              "      box-shadow: 0px 1px 2px rgba(60, 64, 67, 0.3), 0px 1px 3px 1px rgba(60, 64, 67, 0.15);\n",
              "      fill: #174EA6;\n",
              "    }\n",
              "\n",
              "    [theme=dark] .colab-df-convert {\n",
              "      background-color: #3B4455;\n",
              "      fill: #D2E3FC;\n",
              "    }\n",
              "\n",
              "    [theme=dark] .colab-df-convert:hover {\n",
              "      background-color: #434B5C;\n",
              "      box-shadow: 0px 1px 3px 1px rgba(0, 0, 0, 0.15);\n",
              "      filter: drop-shadow(0px 1px 2px rgba(0, 0, 0, 0.3));\n",
              "      fill: #FFFFFF;\n",
              "    }\n",
              "  </style>\n",
              "\n",
              "      <script>\n",
              "        const buttonEl =\n",
              "          document.querySelector('#df-ceb30f2a-b2c8-4cc1-8de5-2c7828c6dfbb button.colab-df-convert');\n",
              "        buttonEl.style.display =\n",
              "          google.colab.kernel.accessAllowed ? 'block' : 'none';\n",
              "\n",
              "        async function convertToInteractive(key) {\n",
              "          const element = document.querySelector('#df-ceb30f2a-b2c8-4cc1-8de5-2c7828c6dfbb');\n",
              "          const dataTable =\n",
              "            await google.colab.kernel.invokeFunction('convertToInteractive',\n",
              "                                                     [key], {});\n",
              "          if (!dataTable) return;\n",
              "\n",
              "          const docLinkHtml = 'Like what you see? Visit the ' +\n",
              "            '<a target=\"_blank\" href=https://colab.research.google.com/notebooks/data_table.ipynb>data table notebook</a>'\n",
              "            + ' to learn more about interactive tables.';\n",
              "          element.innerHTML = '';\n",
              "          dataTable['output_type'] = 'display_data';\n",
              "          await google.colab.output.renderOutput(dataTable, element);\n",
              "          const docLink = document.createElement('div');\n",
              "          docLink.innerHTML = docLinkHtml;\n",
              "          element.appendChild(docLink);\n",
              "        }\n",
              "      </script>\n",
              "    </div>\n",
              "  </div>\n",
              "  "
            ]
          },
          "metadata": {},
          "execution_count": 184
        }
      ]
    },
    {
      "cell_type": "markdown",
      "source": [
        "#### Finding movies similar to Liar Liar"
      ],
      "metadata": {
        "id": "R0d4shnHi6RQ"
      }
    },
    {
      "cell_type": "code",
      "source": [
        "movies = pd.read_csv('movies.csv')"
      ],
      "metadata": {
        "id": "8YGsrTZ3jon_"
      },
      "execution_count": null,
      "outputs": []
    },
    {
      "cell_type": "code",
      "source": [
        "movies[movies.title.str.contains('Liar Liar')]"
      ],
      "metadata": {
        "colab": {
          "base_uri": "https://localhost:8080/",
          "height": 81
        },
        "id": "tO5C1_krkPEB",
        "outputId": "32c17d81-faf7-4eef-e00f-77b6d84b346c"
      },
      "execution_count": null,
      "outputs": [
        {
          "output_type": "execute_result",
          "data": {
            "text/plain": [
              "      movieId             title  genres\n",
              "1202     1485  Liar Liar (1997)  Comedy"
            ],
            "text/html": [
              "\n",
              "  <div id=\"df-9cc421a2-ef48-48eb-a028-31d8a2398344\">\n",
              "    <div class=\"colab-df-container\">\n",
              "      <div>\n",
              "<style scoped>\n",
              "    .dataframe tbody tr th:only-of-type {\n",
              "        vertical-align: middle;\n",
              "    }\n",
              "\n",
              "    .dataframe tbody tr th {\n",
              "        vertical-align: top;\n",
              "    }\n",
              "\n",
              "    .dataframe thead th {\n",
              "        text-align: right;\n",
              "    }\n",
              "</style>\n",
              "<table border=\"1\" class=\"dataframe\">\n",
              "  <thead>\n",
              "    <tr style=\"text-align: right;\">\n",
              "      <th></th>\n",
              "      <th>movieId</th>\n",
              "      <th>title</th>\n",
              "      <th>genres</th>\n",
              "    </tr>\n",
              "  </thead>\n",
              "  <tbody>\n",
              "    <tr>\n",
              "      <th>1202</th>\n",
              "      <td>1485</td>\n",
              "      <td>Liar Liar (1997)</td>\n",
              "      <td>Comedy</td>\n",
              "    </tr>\n",
              "  </tbody>\n",
              "</table>\n",
              "</div>\n",
              "      <button class=\"colab-df-convert\" onclick=\"convertToInteractive('df-9cc421a2-ef48-48eb-a028-31d8a2398344')\"\n",
              "              title=\"Convert this dataframe to an interactive table.\"\n",
              "              style=\"display:none;\">\n",
              "        \n",
              "  <svg xmlns=\"http://www.w3.org/2000/svg\" height=\"24px\"viewBox=\"0 0 24 24\"\n",
              "       width=\"24px\">\n",
              "    <path d=\"M0 0h24v24H0V0z\" fill=\"none\"/>\n",
              "    <path d=\"M18.56 5.44l.94 2.06.94-2.06 2.06-.94-2.06-.94-.94-2.06-.94 2.06-2.06.94zm-11 1L8.5 8.5l.94-2.06 2.06-.94-2.06-.94L8.5 2.5l-.94 2.06-2.06.94zm10 10l.94 2.06.94-2.06 2.06-.94-2.06-.94-.94-2.06-.94 2.06-2.06.94z\"/><path d=\"M17.41 7.96l-1.37-1.37c-.4-.4-.92-.59-1.43-.59-.52 0-1.04.2-1.43.59L10.3 9.45l-7.72 7.72c-.78.78-.78 2.05 0 2.83L4 21.41c.39.39.9.59 1.41.59.51 0 1.02-.2 1.41-.59l7.78-7.78 2.81-2.81c.8-.78.8-2.07 0-2.86zM5.41 20L4 18.59l7.72-7.72 1.47 1.35L5.41 20z\"/>\n",
              "  </svg>\n",
              "      </button>\n",
              "      \n",
              "  <style>\n",
              "    .colab-df-container {\n",
              "      display:flex;\n",
              "      flex-wrap:wrap;\n",
              "      gap: 12px;\n",
              "    }\n",
              "\n",
              "    .colab-df-convert {\n",
              "      background-color: #E8F0FE;\n",
              "      border: none;\n",
              "      border-radius: 50%;\n",
              "      cursor: pointer;\n",
              "      display: none;\n",
              "      fill: #1967D2;\n",
              "      height: 32px;\n",
              "      padding: 0 0 0 0;\n",
              "      width: 32px;\n",
              "    }\n",
              "\n",
              "    .colab-df-convert:hover {\n",
              "      background-color: #E2EBFA;\n",
              "      box-shadow: 0px 1px 2px rgba(60, 64, 67, 0.3), 0px 1px 3px 1px rgba(60, 64, 67, 0.15);\n",
              "      fill: #174EA6;\n",
              "    }\n",
              "\n",
              "    [theme=dark] .colab-df-convert {\n",
              "      background-color: #3B4455;\n",
              "      fill: #D2E3FC;\n",
              "    }\n",
              "\n",
              "    [theme=dark] .colab-df-convert:hover {\n",
              "      background-color: #434B5C;\n",
              "      box-shadow: 0px 1px 3px 1px rgba(0, 0, 0, 0.15);\n",
              "      filter: drop-shadow(0px 1px 2px rgba(0, 0, 0, 0.3));\n",
              "      fill: #FFFFFF;\n",
              "    }\n",
              "  </style>\n",
              "\n",
              "      <script>\n",
              "        const buttonEl =\n",
              "          document.querySelector('#df-9cc421a2-ef48-48eb-a028-31d8a2398344 button.colab-df-convert');\n",
              "        buttonEl.style.display =\n",
              "          google.colab.kernel.accessAllowed ? 'block' : 'none';\n",
              "\n",
              "        async function convertToInteractive(key) {\n",
              "          const element = document.querySelector('#df-9cc421a2-ef48-48eb-a028-31d8a2398344');\n",
              "          const dataTable =\n",
              "            await google.colab.kernel.invokeFunction('convertToInteractive',\n",
              "                                                     [key], {});\n",
              "          if (!dataTable) return;\n",
              "\n",
              "          const docLinkHtml = 'Like what you see? Visit the ' +\n",
              "            '<a target=\"_blank\" href=https://colab.research.google.com/notebooks/data_table.ipynb>data table notebook</a>'\n",
              "            + ' to learn more about interactive tables.';\n",
              "          element.innerHTML = '';\n",
              "          dataTable['output_type'] = 'display_data';\n",
              "          await google.colab.output.renderOutput(dataTable, element);\n",
              "          const docLink = document.createElement('div');\n",
              "          docLink.innerHTML = docLinkHtml;\n",
              "          element.appendChild(docLink);\n",
              "        }\n",
              "      </script>\n",
              "    </div>\n",
              "  </div>\n",
              "  "
            ]
          },
          "metadata": {},
          "execution_count": 189
        }
      ]
    },
    {
      "cell_type": "markdown",
      "source": [
        "#### Sorting the movie id by similarity score"
      ],
      "metadata": {
        "id": "0jERZernlEdD"
      }
    },
    {
      "cell_type": "code",
      "source": [
        "item_sim_matrix[1485].sort_values(ascending=False).head(10)"
      ],
      "metadata": {
        "colab": {
          "base_uri": "https://localhost:8080/"
        },
        "id": "ZG_0jTRsexh-",
        "outputId": "d574155a-9673-403c-99cf-f1e47ee9df41"
      },
      "execution_count": null,
      "outputs": [
        {
          "output_type": "execute_result",
          "data": {
            "text/plain": [
              "movieId\n",
              "1485    1.000000\n",
              "1391    0.829599\n",
              "104     0.816998\n",
              "1760    0.815274\n",
              "1608    0.812336\n",
              "3033    0.810485\n",
              "1407    0.809809\n",
              "1461    0.808078\n",
              "1020    0.806623\n",
              "1777    0.803359\n",
              "Name: 1485, dtype: float32"
            ]
          },
          "metadata": {},
          "execution_count": 196
        }
      ]
    },
    {
      "cell_type": "markdown",
      "source": [
        "#### Fetching the index of moives"
      ],
      "metadata": {
        "id": "n95o0E52lKX6"
      }
    },
    {
      "cell_type": "code",
      "source": [
        "movie_index = item_sim_matrix[1485].sort_values(ascending=False).head(10).index"
      ],
      "metadata": {
        "id": "9bkXKinwgdfR"
      },
      "execution_count": null,
      "outputs": []
    },
    {
      "cell_type": "markdown",
      "source": [
        "#### Fetching the name of movies"
      ],
      "metadata": {
        "id": "9-hoYYqylNL2"
      }
    },
    {
      "cell_type": "code",
      "source": [
        "movies[movies.movieId.isin(movie_index)]"
      ],
      "metadata": {
        "colab": {
          "base_uri": "https://localhost:8080/",
          "height": 363
        },
        "id": "K2pLWVbijRV0",
        "outputId": "1ad5c0fa-9662-4d8d-99d3-0312ee1ae484"
      },
      "execution_count": null,
      "outputs": [
        {
          "output_type": "execute_result",
          "data": {
            "text/plain": [
              "      movieId                                              title  \\\n",
              "94        104                               Happy Gilmore (1996)   \n",
              "828      1020                               Cool Runnings (1993)   \n",
              "1130     1391                               Mars Attacks! (1996)   \n",
              "1143     1407                                      Scream (1996)   \n",
              "1184     1461  Vegas Vacation (National Lampoon's Las Vegas V...   \n",
              "1202     1485                                   Liar Liar (1997)   \n",
              "1287     1608                               Air Force One (1997)   \n",
              "1390     1760                                 Spice World (1997)   \n",
              "1398     1777                         Wedding Singer, The (1998)   \n",
              "2423     3033                                  Spaceballs (1987)   \n",
              "\n",
              "                              genres  \n",
              "94                            Comedy  \n",
              "828                           Comedy  \n",
              "1130            Action|Comedy|Sci-Fi  \n",
              "1143  Comedy|Horror|Mystery|Thriller  \n",
              "1184                          Comedy  \n",
              "1202                          Comedy  \n",
              "1287                 Action|Thriller  \n",
              "1390                          Comedy  \n",
              "1398                  Comedy|Romance  \n",
              "2423                   Comedy|Sci-Fi  "
            ],
            "text/html": [
              "\n",
              "  <div id=\"df-6d384a3c-7fd0-4964-8d41-7a5815f927f7\">\n",
              "    <div class=\"colab-df-container\">\n",
              "      <div>\n",
              "<style scoped>\n",
              "    .dataframe tbody tr th:only-of-type {\n",
              "        vertical-align: middle;\n",
              "    }\n",
              "\n",
              "    .dataframe tbody tr th {\n",
              "        vertical-align: top;\n",
              "    }\n",
              "\n",
              "    .dataframe thead th {\n",
              "        text-align: right;\n",
              "    }\n",
              "</style>\n",
              "<table border=\"1\" class=\"dataframe\">\n",
              "  <thead>\n",
              "    <tr style=\"text-align: right;\">\n",
              "      <th></th>\n",
              "      <th>movieId</th>\n",
              "      <th>title</th>\n",
              "      <th>genres</th>\n",
              "    </tr>\n",
              "  </thead>\n",
              "  <tbody>\n",
              "    <tr>\n",
              "      <th>94</th>\n",
              "      <td>104</td>\n",
              "      <td>Happy Gilmore (1996)</td>\n",
              "      <td>Comedy</td>\n",
              "    </tr>\n",
              "    <tr>\n",
              "      <th>828</th>\n",
              "      <td>1020</td>\n",
              "      <td>Cool Runnings (1993)</td>\n",
              "      <td>Comedy</td>\n",
              "    </tr>\n",
              "    <tr>\n",
              "      <th>1130</th>\n",
              "      <td>1391</td>\n",
              "      <td>Mars Attacks! (1996)</td>\n",
              "      <td>Action|Comedy|Sci-Fi</td>\n",
              "    </tr>\n",
              "    <tr>\n",
              "      <th>1143</th>\n",
              "      <td>1407</td>\n",
              "      <td>Scream (1996)</td>\n",
              "      <td>Comedy|Horror|Mystery|Thriller</td>\n",
              "    </tr>\n",
              "    <tr>\n",
              "      <th>1184</th>\n",
              "      <td>1461</td>\n",
              "      <td>Vegas Vacation (National Lampoon's Las Vegas V...</td>\n",
              "      <td>Comedy</td>\n",
              "    </tr>\n",
              "    <tr>\n",
              "      <th>1202</th>\n",
              "      <td>1485</td>\n",
              "      <td>Liar Liar (1997)</td>\n",
              "      <td>Comedy</td>\n",
              "    </tr>\n",
              "    <tr>\n",
              "      <th>1287</th>\n",
              "      <td>1608</td>\n",
              "      <td>Air Force One (1997)</td>\n",
              "      <td>Action|Thriller</td>\n",
              "    </tr>\n",
              "    <tr>\n",
              "      <th>1390</th>\n",
              "      <td>1760</td>\n",
              "      <td>Spice World (1997)</td>\n",
              "      <td>Comedy</td>\n",
              "    </tr>\n",
              "    <tr>\n",
              "      <th>1398</th>\n",
              "      <td>1777</td>\n",
              "      <td>Wedding Singer, The (1998)</td>\n",
              "      <td>Comedy|Romance</td>\n",
              "    </tr>\n",
              "    <tr>\n",
              "      <th>2423</th>\n",
              "      <td>3033</td>\n",
              "      <td>Spaceballs (1987)</td>\n",
              "      <td>Comedy|Sci-Fi</td>\n",
              "    </tr>\n",
              "  </tbody>\n",
              "</table>\n",
              "</div>\n",
              "      <button class=\"colab-df-convert\" onclick=\"convertToInteractive('df-6d384a3c-7fd0-4964-8d41-7a5815f927f7')\"\n",
              "              title=\"Convert this dataframe to an interactive table.\"\n",
              "              style=\"display:none;\">\n",
              "        \n",
              "  <svg xmlns=\"http://www.w3.org/2000/svg\" height=\"24px\"viewBox=\"0 0 24 24\"\n",
              "       width=\"24px\">\n",
              "    <path d=\"M0 0h24v24H0V0z\" fill=\"none\"/>\n",
              "    <path d=\"M18.56 5.44l.94 2.06.94-2.06 2.06-.94-2.06-.94-.94-2.06-.94 2.06-2.06.94zm-11 1L8.5 8.5l.94-2.06 2.06-.94-2.06-.94L8.5 2.5l-.94 2.06-2.06.94zm10 10l.94 2.06.94-2.06 2.06-.94-2.06-.94-.94-2.06-.94 2.06-2.06.94z\"/><path d=\"M17.41 7.96l-1.37-1.37c-.4-.4-.92-.59-1.43-.59-.52 0-1.04.2-1.43.59L10.3 9.45l-7.72 7.72c-.78.78-.78 2.05 0 2.83L4 21.41c.39.39.9.59 1.41.59.51 0 1.02-.2 1.41-.59l7.78-7.78 2.81-2.81c.8-.78.8-2.07 0-2.86zM5.41 20L4 18.59l7.72-7.72 1.47 1.35L5.41 20z\"/>\n",
              "  </svg>\n",
              "      </button>\n",
              "      \n",
              "  <style>\n",
              "    .colab-df-container {\n",
              "      display:flex;\n",
              "      flex-wrap:wrap;\n",
              "      gap: 12px;\n",
              "    }\n",
              "\n",
              "    .colab-df-convert {\n",
              "      background-color: #E8F0FE;\n",
              "      border: none;\n",
              "      border-radius: 50%;\n",
              "      cursor: pointer;\n",
              "      display: none;\n",
              "      fill: #1967D2;\n",
              "      height: 32px;\n",
              "      padding: 0 0 0 0;\n",
              "      width: 32px;\n",
              "    }\n",
              "\n",
              "    .colab-df-convert:hover {\n",
              "      background-color: #E2EBFA;\n",
              "      box-shadow: 0px 1px 2px rgba(60, 64, 67, 0.3), 0px 1px 3px 1px rgba(60, 64, 67, 0.15);\n",
              "      fill: #174EA6;\n",
              "    }\n",
              "\n",
              "    [theme=dark] .colab-df-convert {\n",
              "      background-color: #3B4455;\n",
              "      fill: #D2E3FC;\n",
              "    }\n",
              "\n",
              "    [theme=dark] .colab-df-convert:hover {\n",
              "      background-color: #434B5C;\n",
              "      box-shadow: 0px 1px 3px 1px rgba(0, 0, 0, 0.15);\n",
              "      filter: drop-shadow(0px 1px 2px rgba(0, 0, 0, 0.3));\n",
              "      fill: #FFFFFF;\n",
              "    }\n",
              "  </style>\n",
              "\n",
              "      <script>\n",
              "        const buttonEl =\n",
              "          document.querySelector('#df-6d384a3c-7fd0-4964-8d41-7a5815f927f7 button.colab-df-convert');\n",
              "        buttonEl.style.display =\n",
              "          google.colab.kernel.accessAllowed ? 'block' : 'none';\n",
              "\n",
              "        async function convertToInteractive(key) {\n",
              "          const element = document.querySelector('#df-6d384a3c-7fd0-4964-8d41-7a5815f927f7');\n",
              "          const dataTable =\n",
              "            await google.colab.kernel.invokeFunction('convertToInteractive',\n",
              "                                                     [key], {});\n",
              "          if (!dataTable) return;\n",
              "\n",
              "          const docLinkHtml = 'Like what you see? Visit the ' +\n",
              "            '<a target=\"_blank\" href=https://colab.research.google.com/notebooks/data_table.ipynb>data table notebook</a>'\n",
              "            + ' to learn more about interactive tables.';\n",
              "          element.innerHTML = '';\n",
              "          dataTable['output_type'] = 'display_data';\n",
              "          await google.colab.output.renderOutput(dataTable, element);\n",
              "          const docLink = document.createElement('div');\n",
              "          docLink.innerHTML = docLinkHtml;\n",
              "          element.appendChild(docLink);\n",
              "        }\n",
              "      </script>\n",
              "    </div>\n",
              "  </div>\n",
              "  "
            ]
          },
          "metadata": {},
          "execution_count": 201
        }
      ]
    }
  ]
}